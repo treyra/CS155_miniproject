{
  "nbformat": 4,
  "nbformat_minor": 0,
  "metadata": {
    "anaconda-cloud": {},
    "kernelspec": {
      "display_name": "Python 3",
      "language": "python",
      "name": "python3"
    },
    "language_info": {
      "codemirror_mode": {
        "name": "ipython",
        "version": 3
      },
      "file_extension": ".py",
      "mimetype": "text/x-python",
      "name": "python",
      "nbconvert_exporter": "python",
      "pygments_lexer": "ipython3",
      "version": "3.6.3"
    },
    "colab": {
      "name": "Data Visualization",
      "provenance": [],
      "collapsed_sections": [],
      "include_colab_link": true
    }
  },
  "cells": [
    {
      "cell_type": "markdown",
      "metadata": {
        "id": "view-in-github",
        "colab_type": "text"
      },
      "source": [
        "<a href=\"https://colab.research.google.com/github/treyra/CS155_miniproject/blob/data_visualization_v1/Data_Visualization.ipynb\" target=\"_parent\"><img src=\"https://colab.research.google.com/assets/colab-badge.svg\" alt=\"Open In Colab\"/></a>"
      ]
    },
    {
      "cell_type": "markdown",
      "metadata": {
        "id": "WF1crkj-DTKO"
      },
      "source": [
        "# This is a blank notebook for data visulaization"
      ]
    },
    {
      "cell_type": "markdown",
      "metadata": {
        "id": "XNkW8PGKDTKW"
      },
      "source": [
        "Look at data"
      ]
    },
    {
      "cell_type": "code",
      "metadata": {
        "collapsed": true,
        "id": "yXh6KLlUDTKX"
      },
      "source": [
        "import matplotlib.pyplot as plt\n",
        "import numpy as np\n",
        "import pandas as pd"
      ],
      "execution_count": 37,
      "outputs": []
    },
    {
      "cell_type": "code",
      "metadata": {
        "id": "z59PzLJWviUl",
        "colab": {
          "base_uri": "https://localhost:8080/",
          "height": 204
        },
        "outputId": "b0a55500-b4f1-4f3e-9226-1fef76413236"
      },
      "source": [
        "df = pd.read_csv('https://raw.githubusercontent.com/treyra/CS155_miniproject/master/WILDFIRES_TRAIN.csv',sep=',', header=0)\n",
        "#print(df)\n",
        "df.head()"
      ],
      "execution_count": 38,
      "outputs": [
        {
          "output_type": "execute_result",
          "data": {
            "text/html": [
              "<div>\n",
              "<style scoped>\n",
              "    .dataframe tbody tr th:only-of-type {\n",
              "        vertical-align: middle;\n",
              "    }\n",
              "\n",
              "    .dataframe tbody tr th {\n",
              "        vertical-align: top;\n",
              "    }\n",
              "\n",
              "    .dataframe thead th {\n",
              "        text-align: right;\n",
              "    }\n",
              "</style>\n",
              "<table border=\"1\" class=\"dataframe\">\n",
              "  <thead>\n",
              "    <tr style=\"text-align: right;\">\n",
              "      <th></th>\n",
              "      <th>id</th>\n",
              "      <th>LATITUDE</th>\n",
              "      <th>LONGITUDE</th>\n",
              "      <th>STATE</th>\n",
              "      <th>DISCOVERY_TIME</th>\n",
              "      <th>FIRE_SIZE</th>\n",
              "      <th>FIPS_NAME</th>\n",
              "      <th>FIPS_CODE</th>\n",
              "      <th>SOURCE_REPORTING_UNIT_NAME</th>\n",
              "      <th>DATE</th>\n",
              "      <th>LABEL</th>\n",
              "    </tr>\n",
              "  </thead>\n",
              "  <tbody>\n",
              "    <tr>\n",
              "      <th>0</th>\n",
              "      <td>0</td>\n",
              "      <td>38.205000</td>\n",
              "      <td>-120.335000</td>\n",
              "      <td>CA</td>\n",
              "      <td>130.0</td>\n",
              "      <td>0.10</td>\n",
              "      <td>NaN</td>\n",
              "      <td>NaN</td>\n",
              "      <td>Stanislaus National Forest</td>\n",
              "      <td>1992-01-01</td>\n",
              "      <td>1</td>\n",
              "    </tr>\n",
              "    <tr>\n",
              "      <th>1</th>\n",
              "      <td>1</td>\n",
              "      <td>33.813100</td>\n",
              "      <td>-85.104300</td>\n",
              "      <td>GA</td>\n",
              "      <td>1115.0</td>\n",
              "      <td>1.17</td>\n",
              "      <td>Haralson</td>\n",
              "      <td>143.0</td>\n",
              "      <td>Georgia Forestry Commission</td>\n",
              "      <td>1992-01-01</td>\n",
              "      <td>4</td>\n",
              "    </tr>\n",
              "    <tr>\n",
              "      <th>2</th>\n",
              "      <td>2</td>\n",
              "      <td>32.201000</td>\n",
              "      <td>-82.498700</td>\n",
              "      <td>GA</td>\n",
              "      <td>1600.0</td>\n",
              "      <td>0.07</td>\n",
              "      <td>Montgomery</td>\n",
              "      <td>209.0</td>\n",
              "      <td>Georgia Forestry Commission</td>\n",
              "      <td>1992-01-01</td>\n",
              "      <td>2</td>\n",
              "    </tr>\n",
              "    <tr>\n",
              "      <th>3</th>\n",
              "      <td>3</td>\n",
              "      <td>32.509300</td>\n",
              "      <td>-81.708600</td>\n",
              "      <td>GA</td>\n",
              "      <td>1215.0</td>\n",
              "      <td>4.40</td>\n",
              "      <td>Bulloch</td>\n",
              "      <td>31.0</td>\n",
              "      <td>Georgia Forestry Commission</td>\n",
              "      <td>1992-01-01</td>\n",
              "      <td>4</td>\n",
              "    </tr>\n",
              "    <tr>\n",
              "      <th>4</th>\n",
              "      <td>4</td>\n",
              "      <td>33.663889</td>\n",
              "      <td>-116.171944</td>\n",
              "      <td>CA</td>\n",
              "      <td>NaN</td>\n",
              "      <td>0.20</td>\n",
              "      <td>NaN</td>\n",
              "      <td>NaN</td>\n",
              "      <td>CDF - Riverside Unit</td>\n",
              "      <td>1992-01-01</td>\n",
              "      <td>2</td>\n",
              "    </tr>\n",
              "  </tbody>\n",
              "</table>\n",
              "</div>"
            ],
            "text/plain": [
              "   id   LATITUDE   LONGITUDE  ...   SOURCE_REPORTING_UNIT_NAME        DATE  LABEL\n",
              "0   0  38.205000 -120.335000  ...   Stanislaus National Forest  1992-01-01      1\n",
              "1   1  33.813100  -85.104300  ...  Georgia Forestry Commission  1992-01-01      4\n",
              "2   2  32.201000  -82.498700  ...  Georgia Forestry Commission  1992-01-01      2\n",
              "3   3  32.509300  -81.708600  ...  Georgia Forestry Commission  1992-01-01      4\n",
              "4   4  33.663889 -116.171944  ...         CDF - Riverside Unit  1992-01-01      2\n",
              "\n",
              "[5 rows x 11 columns]"
            ]
          },
          "metadata": {
            "tags": []
          },
          "execution_count": 38
        }
      ]
    },
    {
      "cell_type": "code",
      "metadata": {
        "colab": {
          "base_uri": "https://localhost:8080/",
          "height": 279
        },
        "id": "Jkzi94wnTot5",
        "outputId": "2f7f6d90-fcaa-41eb-ce94-f0081b394286"
      },
      "source": [
        "# sanity check - plot\n",
        "fig, ax = plt.subplots()\n",
        "i=0;\n",
        "colors =['blue', 'red'];\n",
        "for grp, vals in df.groupby('STATE'):\n",
        "    color = colors[i]\n",
        "    vals[['LATITUDE','LONGITUDE']].plot.scatter(x='LONGITUDE', y='LATITUDE', ax=ax, s=10, label=grp, color = color)\n",
        "    i=i+1"
      ],
      "execution_count": 35,
      "outputs": [
        {
          "output_type": "display_data",
          "data": {
            "image/png": "[encoded data removed]",
            "text/plain": [
              "<Figure size 432x288 with 1 Axes>"
            ]
          },
          "metadata": {
            "tags": [],
            "needs_background": "light"
          }
        }
      ]
    },
    {
      "cell_type": "code",
      "metadata": {
        "colab": {
          "base_uri": "https://localhost:8080/",
          "height": 279
        },
        "id": "HqSdQy1DcLy2",
        "outputId": "2207e355-4984-471a-db22-f3979a1d3ee1"
      },
      "source": [
        "fig, ax = plt.subplots()\n",
        "i=0;\n",
        "colors =['blue', 'red'];\n",
        "for grp, vals in df.groupby('STATE'):\n",
        "    color = colors[i]\n",
        "    vals[['FIRE_SIZE','LATITUDE']].plot.scatter(x='LATITUDE', y='FIRE_SIZE', ax=ax, s=10, label=grp, color = color)\n",
        "    i=i+1"
      ],
      "execution_count": 36,
      "outputs": [
        {
          "output_type": "display_data",
          "data": {
            "image/png": "[encoded data removed]",
            "text/plain": [
              "<Figure size 432x288 with 1 Axes>"
            ]
          },
          "metadata": {
            "tags": [],
            "needs_background": "light"
          }
        }
      ]
    },
    {
      "cell_type": "code",
      "metadata": {
        "colab": {
          "base_uri": "https://localhost:8080/",
          "height": 279
        },
        "id": "ss1PF-qLi4cR",
        "outputId": "e43e0792-a30e-4f7c-d6c7-6408b8e80170"
      },
      "source": [
        "fig, ax = plt.subplots()\n",
        "i=0;\n",
        "colors =['green','yellow','red', 'blue'];\n",
        "for grp, vals in df.groupby('LABEL'):\n",
        "    color = colors[i]\n",
        "    vals[['FIRE_SIZE','DATE']].plot.scatter(x='DATE', y='FIRE_SIZE', ax=ax, s=10, label=grp, color = color)\n",
        "    i=i+1"
      ],
      "execution_count": 40,
      "outputs": [
        {
          "output_type": "display_data",
          "data": {
            "image/png": "[encoded data removed]",
            "text/plain": [
              "<Figure size 432x288 with 1 Axes>"
            ]
          },
          "metadata": {
            "tags": [],
            "needs_background": "light"
          }
        }
      ]
    }
  ]
}