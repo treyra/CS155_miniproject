{
  "nbformat": 4,
  "nbformat_minor": 0,
  "metadata": {
    "colab": {
      "name": "nn_hyperparameter_tuning.ipynb",
      "provenance": [],
      "collapsed_sections": [],
      "authorship_tag": "ABX9TyMeHmx+IwMOdzI77TfGwXH9",
      "include_colab_link": true
    },
    "kernelspec": {
      "name": "python3",
      "display_name": "Python 3"
    },
    "accelerator": "GPU"
  },
  "cells": [
    {
      "cell_type": "markdown",
      "metadata": {
        "id": "view-in-github",
        "colab_type": "text"
      },
      "source": [
        "<a href=\"https://colab.research.google.com/github/treyra/CS155_miniproject/blob/data_visualization_v1/nn_hyperparameter_tuning.ipynb\" target=\"_parent\"><img src=\"https://colab.research.google.com/assets/colab-badge.svg\" alt=\"Open In Colab\"/></a>"
      ]
    },
    {
      "cell_type": "code",
      "metadata": {
        "colab": {
          "base_uri": "https://localhost:8080/",
          "height": 232
        },
        "id": "tlo9BcJmGHvf",
        "outputId": "53e65581-756d-4efd-992b-a58a75259e38"
      },
      "source": [
        "import numpy as np\n",
        "from matplotlib import pyplot as plt\n",
        "import pandas as pd\n",
        "import tensorflow as tf\n",
        "device_name = tf.test.gpu_device_name()\n",
        "if device_name != '/device:GPU:0':\n",
        "  raise SystemError('GPU device not found')\n",
        "print('Found GPU at: {}'.format(device_name))\n",
        "tf.config.experimental.list_physical_devices('GPU')"
      ],
      "execution_count": 3,
      "outputs": [
        {
          "output_type": "error",
          "ename": "SystemError",
          "evalue": "ignored",
          "traceback": [
            "\u001b[0;31m---------------------------------------------------------------------------\u001b[0m",
            "\u001b[0;31mSystemError\u001b[0m                               Traceback (most recent call last)",
            "\u001b[0;32m<ipython-input-3-87481478f907>\u001b[0m in \u001b[0;36m<module>\u001b[0;34m()\u001b[0m\n\u001b[1;32m      5\u001b[0m \u001b[0mdevice_name\u001b[0m \u001b[0;34m=\u001b[0m \u001b[0mtf\u001b[0m\u001b[0;34m.\u001b[0m\u001b[0mtest\u001b[0m\u001b[0;34m.\u001b[0m\u001b[0mgpu_device_name\u001b[0m\u001b[0;34m(\u001b[0m\u001b[0;34m)\u001b[0m\u001b[0;34m\u001b[0m\u001b[0;34m\u001b[0m\u001b[0m\n\u001b[1;32m      6\u001b[0m \u001b[0;32mif\u001b[0m \u001b[0mdevice_name\u001b[0m \u001b[0;34m!=\u001b[0m \u001b[0;34m'/device:GPU:0'\u001b[0m\u001b[0;34m:\u001b[0m\u001b[0;34m\u001b[0m\u001b[0;34m\u001b[0m\u001b[0m\n\u001b[0;32m----> 7\u001b[0;31m   \u001b[0;32mraise\u001b[0m \u001b[0mSystemError\u001b[0m\u001b[0;34m(\u001b[0m\u001b[0;34m'GPU device not found'\u001b[0m\u001b[0;34m)\u001b[0m\u001b[0;34m\u001b[0m\u001b[0;34m\u001b[0m\u001b[0m\n\u001b[0m\u001b[1;32m      8\u001b[0m \u001b[0mprint\u001b[0m\u001b[0;34m(\u001b[0m\u001b[0;34m'Found GPU at: {}'\u001b[0m\u001b[0;34m.\u001b[0m\u001b[0mformat\u001b[0m\u001b[0;34m(\u001b[0m\u001b[0mdevice_name\u001b[0m\u001b[0;34m)\u001b[0m\u001b[0;34m)\u001b[0m\u001b[0;34m\u001b[0m\u001b[0;34m\u001b[0m\u001b[0m\n\u001b[1;32m      9\u001b[0m \u001b[0mtf\u001b[0m\u001b[0;34m.\u001b[0m\u001b[0mconfig\u001b[0m\u001b[0;34m.\u001b[0m\u001b[0mexperimental\u001b[0m\u001b[0;34m.\u001b[0m\u001b[0mlist_physical_devices\u001b[0m\u001b[0;34m(\u001b[0m\u001b[0;34m'GPU'\u001b[0m\u001b[0;34m)\u001b[0m\u001b[0;34m\u001b[0m\u001b[0;34m\u001b[0m\u001b[0m\n",
            "\u001b[0;31mSystemError\u001b[0m: GPU device not found"
          ]
        }
      ]
    },
    {
      "cell_type": "code",
      "metadata": {
        "colab": {
          "base_uri": "https://localhost:8080/",
          "height": 204
        },
        "id": "Nn8lR7wVGPW2",
        "outputId": "66ff905b-ecde-441d-ffe5-9a749118c8f1"
      },
      "source": [
        "df_train = pd.read_csv('https://raw.githubusercontent.com/treyra/CS155_miniproject/data_visualization_v1/data_cleanup/traindata_imputed_normalized_standard.csv',sep=',', header=0,index_col=0)\n",
        "df_train.head()"
      ],
      "execution_count": 6,
      "outputs": [
        {
          "output_type": "execute_result",
          "data": {
            "text/html": [
              "<div>\n",
              "<style scoped>\n",
              "    .dataframe tbody tr th:only-of-type {\n",
              "        vertical-align: middle;\n",
              "    }\n",
              "\n",
              "    .dataframe tbody tr th {\n",
              "        vertical-align: top;\n",
              "    }\n",
              "\n",
              "    .dataframe thead th {\n",
              "        text-align: right;\n",
              "    }\n",
              "</style>\n",
              "<table border=\"1\" class=\"dataframe\">\n",
              "  <thead>\n",
              "    <tr style=\"text-align: right;\">\n",
              "      <th></th>\n",
              "      <th>id</th>\n",
              "      <th>LATITUDE</th>\n",
              "      <th>LONGITUDE</th>\n",
              "      <th>STATE</th>\n",
              "      <th>DISCOVERY_TIME</th>\n",
              "      <th>FIRE_SIZE</th>\n",
              "      <th>FIPS_NAME</th>\n",
              "      <th>FIPS_CODE</th>\n",
              "      <th>SOURCE_REPORTING_UNIT_NAME</th>\n",
              "      <th>YEAR</th>\n",
              "      <th>DAY</th>\n",
              "      <th>LABEL</th>\n",
              "      <th>0</th>\n",
              "      <th>1</th>\n",
              "      <th>2</th>\n",
              "      <th>3</th>\n",
              "    </tr>\n",
              "  </thead>\n",
              "  <tbody>\n",
              "    <tr>\n",
              "      <th>0</th>\n",
              "      <td>0</td>\n",
              "      <td>0.988292</td>\n",
              "      <td>-0.985738</td>\n",
              "      <td>1</td>\n",
              "      <td>0.054167</td>\n",
              "      <td>-0.026526</td>\n",
              "      <td>1.048773</td>\n",
              "      <td>-1.143120</td>\n",
              "      <td>-0.871063</td>\n",
              "      <td>0.0</td>\n",
              "      <td>0.002732</td>\n",
              "      <td>1</td>\n",
              "      <td>1.0</td>\n",
              "      <td>0.0</td>\n",
              "      <td>0.0</td>\n",
              "      <td>0.0</td>\n",
              "    </tr>\n",
              "    <tr>\n",
              "      <th>1</th>\n",
              "      <td>1</td>\n",
              "      <td>-0.401537</td>\n",
              "      <td>0.925104</td>\n",
              "      <td>-1</td>\n",
              "      <td>0.464583</td>\n",
              "      <td>-0.025770</td>\n",
              "      <td>-1.922012</td>\n",
              "      <td>0.386764</td>\n",
              "      <td>-0.852154</td>\n",
              "      <td>0.0</td>\n",
              "      <td>0.002732</td>\n",
              "      <td>4</td>\n",
              "      <td>0.0</td>\n",
              "      <td>0.0</td>\n",
              "      <td>0.0</td>\n",
              "      <td>1.0</td>\n",
              "    </tr>\n",
              "    <tr>\n",
              "      <th>2</th>\n",
              "      <td>2</td>\n",
              "      <td>-0.911691</td>\n",
              "      <td>1.066427</td>\n",
              "      <td>-1</td>\n",
              "      <td>0.666667</td>\n",
              "      <td>-0.026547</td>\n",
              "      <td>-1.906459</td>\n",
              "      <td>1.140289</td>\n",
              "      <td>-0.852154</td>\n",
              "      <td>0.0</td>\n",
              "      <td>0.002732</td>\n",
              "      <td>2</td>\n",
              "      <td>0.0</td>\n",
              "      <td>1.0</td>\n",
              "      <td>0.0</td>\n",
              "      <td>0.0</td>\n",
              "    </tr>\n",
              "    <tr>\n",
              "      <th>3</th>\n",
              "      <td>3</td>\n",
              "      <td>-0.814128</td>\n",
              "      <td>1.109280</td>\n",
              "      <td>-1</td>\n",
              "      <td>0.506250</td>\n",
              "      <td>-0.023489</td>\n",
              "      <td>-1.890905</td>\n",
              "      <td>-0.891945</td>\n",
              "      <td>-0.852154</td>\n",
              "      <td>0.0</td>\n",
              "      <td>0.002732</td>\n",
              "      <td>4</td>\n",
              "      <td>0.0</td>\n",
              "      <td>0.0</td>\n",
              "      <td>0.0</td>\n",
              "      <td>1.0</td>\n",
              "    </tr>\n",
              "    <tr>\n",
              "      <th>4</th>\n",
              "      <td>4</td>\n",
              "      <td>-0.448755</td>\n",
              "      <td>-0.759942</td>\n",
              "      <td>1</td>\n",
              "      <td>0.549583</td>\n",
              "      <td>-0.026456</td>\n",
              "      <td>0.675480</td>\n",
              "      <td>-0.503766</td>\n",
              "      <td>-0.833245</td>\n",
              "      <td>0.0</td>\n",
              "      <td>0.002732</td>\n",
              "      <td>2</td>\n",
              "      <td>0.0</td>\n",
              "      <td>1.0</td>\n",
              "      <td>0.0</td>\n",
              "      <td>0.0</td>\n",
              "    </tr>\n",
              "  </tbody>\n",
              "</table>\n",
              "</div>"
            ],
            "text/plain": [
              "   id  LATITUDE  LONGITUDE  STATE  DISCOVERY_TIME  ...  LABEL    0    1    2    3\n",
              "0   0  0.988292  -0.985738      1        0.054167  ...      1  1.0  0.0  0.0  0.0\n",
              "1   1 -0.401537   0.925104     -1        0.464583  ...      4  0.0  0.0  0.0  1.0\n",
              "2   2 -0.911691   1.066427     -1        0.666667  ...      2  0.0  1.0  0.0  0.0\n",
              "3   3 -0.814128   1.109280     -1        0.506250  ...      4  0.0  0.0  0.0  1.0\n",
              "4   4 -0.448755  -0.759942      1        0.549583  ...      2  0.0  1.0  0.0  0.0\n",
              "\n",
              "[5 rows x 16 columns]"
            ]
          },
          "metadata": {
            "tags": []
          },
          "execution_count": 6
        }
      ]
    },
    {
      "cell_type": "code",
      "metadata": {
        "colab": {
          "base_uri": "https://localhost:8080/",
          "height": 204
        },
        "id": "clD-lvoOGPnF",
        "outputId": "b0b49a8a-3984-49c9-ee45-e8fd4c2ca76d"
      },
      "source": [
        "df_test = pd.read_csv('https://raw.githubusercontent.com/treyra/CS155_miniproject/data_visualization_v1/data_cleanup/testdata_imputed_normalized_standard.csv',sep=',', header=0,index_col=0)\n",
        "df_test.head()"
      ],
      "execution_count": 7,
      "outputs": [
        {
          "output_type": "execute_result",
          "data": {
            "text/html": [
              "<div>\n",
              "<style scoped>\n",
              "    .dataframe tbody tr th:only-of-type {\n",
              "        vertical-align: middle;\n",
              "    }\n",
              "\n",
              "    .dataframe tbody tr th {\n",
              "        vertical-align: top;\n",
              "    }\n",
              "\n",
              "    .dataframe thead th {\n",
              "        text-align: right;\n",
              "    }\n",
              "</style>\n",
              "<table border=\"1\" class=\"dataframe\">\n",
              "  <thead>\n",
              "    <tr style=\"text-align: right;\">\n",
              "      <th></th>\n",
              "      <th>id</th>\n",
              "      <th>LATITUDE</th>\n",
              "      <th>LONGITUDE</th>\n",
              "      <th>STATE</th>\n",
              "      <th>DISCOVERY_TIME</th>\n",
              "      <th>FIRE_SIZE</th>\n",
              "      <th>FIPS_NAME</th>\n",
              "      <th>FIPS_CODE</th>\n",
              "      <th>SOURCE_REPORTING_UNIT_NAME</th>\n",
              "      <th>YEAR</th>\n",
              "      <th>DAY</th>\n",
              "    </tr>\n",
              "  </thead>\n",
              "  <tbody>\n",
              "    <tr>\n",
              "      <th>0</th>\n",
              "      <td>285382</td>\n",
              "      <td>-0.232600</td>\n",
              "      <td>-0.828839</td>\n",
              "      <td>1</td>\n",
              "      <td>0.66875</td>\n",
              "      <td>-0.026456</td>\n",
              "      <td>0.768803</td>\n",
              "      <td>-0.435263</td>\n",
              "      <td>-0.303789</td>\n",
              "      <td>1.058824</td>\n",
              "      <td>0.002732</td>\n",
              "    </tr>\n",
              "    <tr>\n",
              "      <th>1</th>\n",
              "      <td>285383</td>\n",
              "      <td>-0.335939</td>\n",
              "      <td>-0.760377</td>\n",
              "      <td>1</td>\n",
              "      <td>0.64375</td>\n",
              "      <td>-0.026526</td>\n",
              "      <td>0.784357</td>\n",
              "      <td>-0.435263</td>\n",
              "      <td>0.320212</td>\n",
              "      <td>1.058824</td>\n",
              "      <td>0.002732</td>\n",
              "    </tr>\n",
              "    <tr>\n",
              "      <th>2</th>\n",
              "      <td>285384</td>\n",
              "      <td>0.945131</td>\n",
              "      <td>-0.982574</td>\n",
              "      <td>1</td>\n",
              "      <td>0.50000</td>\n",
              "      <td>-0.026526</td>\n",
              "      <td>0.628819</td>\n",
              "      <td>-0.001415</td>\n",
              "      <td>-0.871063</td>\n",
              "      <td>1.058824</td>\n",
              "      <td>0.002732</td>\n",
              "    </tr>\n",
              "    <tr>\n",
              "      <th>3</th>\n",
              "      <td>285385</td>\n",
              "      <td>-0.817080</td>\n",
              "      <td>0.998962</td>\n",
              "      <td>-1</td>\n",
              "      <td>0.87500</td>\n",
              "      <td>-0.026314</td>\n",
              "      <td>-1.579828</td>\n",
              "      <td>0.500935</td>\n",
              "      <td>2.419125</td>\n",
              "      <td>1.058824</td>\n",
              "      <td>0.005464</td>\n",
              "    </tr>\n",
              "    <tr>\n",
              "      <th>4</th>\n",
              "      <td>285386</td>\n",
              "      <td>-0.682598</td>\n",
              "      <td>-0.695973</td>\n",
              "      <td>1</td>\n",
              "      <td>0.05250</td>\n",
              "      <td>-0.026526</td>\n",
              "      <td>1.204311</td>\n",
              "      <td>-0.960447</td>\n",
              "      <td>-0.681972</td>\n",
              "      <td>1.058824</td>\n",
              "      <td>0.005464</td>\n",
              "    </tr>\n",
              "  </tbody>\n",
              "</table>\n",
              "</div>"
            ],
            "text/plain": [
              "       id  LATITUDE  LONGITUDE  ...  SOURCE_REPORTING_UNIT_NAME      YEAR       DAY\n",
              "0  285382 -0.232600  -0.828839  ...                   -0.303789  1.058824  0.002732\n",
              "1  285383 -0.335939  -0.760377  ...                    0.320212  1.058824  0.002732\n",
              "2  285384  0.945131  -0.982574  ...                   -0.871063  1.058824  0.002732\n",
              "3  285385 -0.817080   0.998962  ...                    2.419125  1.058824  0.005464\n",
              "4  285386 -0.682598  -0.695973  ...                   -0.681972  1.058824  0.005464\n",
              "\n",
              "[5 rows x 11 columns]"
            ]
          },
          "metadata": {
            "tags": []
          },
          "execution_count": 7
        }
      ]
    },
    {
      "cell_type": "code",
      "metadata": {
        "colab": {
          "base_uri": "https://localhost:8080/",
          "height": 204
        },
        "id": "BD0XLSBgGTIJ",
        "outputId": "7d58180b-c959-42e3-8019-ac31fa692ad3"
      },
      "source": [
        "# drop features\n",
        "df_test = df_test.drop(['FIPS_CODE', 'YEAR', 'SOURCE_REPORTING_UNIT_NAME','STATE'],axis=1)\n",
        "df_train = df_train.drop(['FIPS_CODE', 'YEAR', 'SOURCE_REPORTING_UNIT_NAME','STATE'],axis=1)\n",
        "df_test.head()"
      ],
      "execution_count": 8,
      "outputs": [
        {
          "output_type": "execute_result",
          "data": {
            "text/html": [
              "<div>\n",
              "<style scoped>\n",
              "    .dataframe tbody tr th:only-of-type {\n",
              "        vertical-align: middle;\n",
              "    }\n",
              "\n",
              "    .dataframe tbody tr th {\n",
              "        vertical-align: top;\n",
              "    }\n",
              "\n",
              "    .dataframe thead th {\n",
              "        text-align: right;\n",
              "    }\n",
              "</style>\n",
              "<table border=\"1\" class=\"dataframe\">\n",
              "  <thead>\n",
              "    <tr style=\"text-align: right;\">\n",
              "      <th></th>\n",
              "      <th>id</th>\n",
              "      <th>LATITUDE</th>\n",
              "      <th>LONGITUDE</th>\n",
              "      <th>DISCOVERY_TIME</th>\n",
              "      <th>FIRE_SIZE</th>\n",
              "      <th>FIPS_NAME</th>\n",
              "      <th>DAY</th>\n",
              "    </tr>\n",
              "  </thead>\n",
              "  <tbody>\n",
              "    <tr>\n",
              "      <th>0</th>\n",
              "      <td>285382</td>\n",
              "      <td>-0.232600</td>\n",
              "      <td>-0.828839</td>\n",
              "      <td>0.66875</td>\n",
              "      <td>-0.026456</td>\n",
              "      <td>0.768803</td>\n",
              "      <td>0.002732</td>\n",
              "    </tr>\n",
              "    <tr>\n",
              "      <th>1</th>\n",
              "      <td>285383</td>\n",
              "      <td>-0.335939</td>\n",
              "      <td>-0.760377</td>\n",
              "      <td>0.64375</td>\n",
              "      <td>-0.026526</td>\n",
              "      <td>0.784357</td>\n",
              "      <td>0.002732</td>\n",
              "    </tr>\n",
              "    <tr>\n",
              "      <th>2</th>\n",
              "      <td>285384</td>\n",
              "      <td>0.945131</td>\n",
              "      <td>-0.982574</td>\n",
              "      <td>0.50000</td>\n",
              "      <td>-0.026526</td>\n",
              "      <td>0.628819</td>\n",
              "      <td>0.002732</td>\n",
              "    </tr>\n",
              "    <tr>\n",
              "      <th>3</th>\n",
              "      <td>285385</td>\n",
              "      <td>-0.817080</td>\n",
              "      <td>0.998962</td>\n",
              "      <td>0.87500</td>\n",
              "      <td>-0.026314</td>\n",
              "      <td>-1.579828</td>\n",
              "      <td>0.005464</td>\n",
              "    </tr>\n",
              "    <tr>\n",
              "      <th>4</th>\n",
              "      <td>285386</td>\n",
              "      <td>-0.682598</td>\n",
              "      <td>-0.695973</td>\n",
              "      <td>0.05250</td>\n",
              "      <td>-0.026526</td>\n",
              "      <td>1.204311</td>\n",
              "      <td>0.005464</td>\n",
              "    </tr>\n",
              "  </tbody>\n",
              "</table>\n",
              "</div>"
            ],
            "text/plain": [
              "       id  LATITUDE  LONGITUDE  DISCOVERY_TIME  FIRE_SIZE  FIPS_NAME       DAY\n",
              "0  285382 -0.232600  -0.828839         0.66875  -0.026456   0.768803  0.002732\n",
              "1  285383 -0.335939  -0.760377         0.64375  -0.026526   0.784357  0.002732\n",
              "2  285384  0.945131  -0.982574         0.50000  -0.026526   0.628819  0.002732\n",
              "3  285385 -0.817080   0.998962         0.87500  -0.026314  -1.579828  0.005464\n",
              "4  285386 -0.682598  -0.695973         0.05250  -0.026526   1.204311  0.005464"
            ]
          },
          "metadata": {
            "tags": []
          },
          "execution_count": 8
        }
      ]
    },
    {
      "cell_type": "code",
      "metadata": {
        "colab": {
          "base_uri": "https://localhost:8080/"
        },
        "id": "6-2u1RHaJcJX",
        "outputId": "f21e24f9-1900-40fd-8276-47925ee89bda"
      },
      "source": [
        "# make the data ready for training\n",
        "# load dataset\n",
        "df_train_X = df_train.drop(['id','LABEL','0','1','2','3'], axis =1)\n",
        "df_train_y = df_train.drop(['id','LATITUDE','LONGITUDE','DISCOVERY_TIME','FIRE_SIZE','FIPS_NAME','DAY','LABEL'], axis=1)\n",
        "\n",
        "X = df_train_X.to_numpy()\n",
        "y = df_train_y.to_numpy()\n",
        "n_inputs, n_outputs = X.shape[1], y.shape[1]\n",
        "print(X)\n",
        "print(y)"
      ],
      "execution_count": 9,
      "outputs": [
        {
          "output_type": "stream",
          "text": [
            "[[ 0.98829209 -0.98573763  0.05416667 -0.02652628  1.04877251  0.00273224]\n",
            " [-0.40153698  0.92510448  0.46458333 -0.02577049 -1.92201243  0.00273224]\n",
            " [-0.91169054  1.06642697  0.66666667 -0.02654747 -1.90645859  0.00273224]\n",
            " ...\n",
            " [-0.72827585  1.05320738  0.8875     -0.02658985 -0.33551995  0.99453552]\n",
            " [-0.34713874 -0.80024373  0.54958333 -0.02638501  0.67548016  0.99453552]\n",
            " [-0.51010212 -0.80233015  0.6        -0.02589057  0.67548016  0.99726776]]\n",
            "[[1. 0. 0. 0.]\n",
            " [0. 0. 0. 1.]\n",
            " [0. 1. 0. 0.]\n",
            " ...\n",
            " [0. 1. 0. 0.]\n",
            " [0. 1. 0. 0.]\n",
            " [0. 1. 0. 0.]]\n"
          ],
          "name": "stdout"
        }
      ]
    },
    {
      "cell_type": "code",
      "metadata": {
        "id": "-dGlDCGEGWcq"
      },
      "source": [
        "import re\n",
        "from sklearn.pipeline import Pipeline\n",
        "from sklearn.model_selection import GridSearchCV\n",
        "from sklearn.feature_extraction.text import TfidfVectorizer\n",
        "from sklearn.preprocessing import StandardScaler\n",
        "from keras.wrappers.scikit_learn import KerasClassifier\n",
        "from keras.layers import Dense, Input, Dropout\n",
        "from keras import Sequential"
      ],
      "execution_count": 10,
      "outputs": []
    },
    {
      "cell_type": "code",
      "metadata": {
        "id": "68FasIhGGhgG"
      },
      "source": [
        "def create_model(dense_layer_sizes = [32], optimizer=\"adam\", dropout=0.1, init='he_uniform', dense_nparams=256):\n",
        "    model = Sequential()\n",
        "    model.add(Dense(dense_nparams, activation='relu', input_shape=(6,), kernel_initializer=init,)) \n",
        "    model.add(Dropout(dropout), )\n",
        "    for layer_size in dense_layer_sizes:\n",
        "        model.add(Dense(layer_size, activation='relu'))\n",
        "        model.add(Dropout(dropout), )\n",
        "    model.add(Dense(4, activation='sigmoid'))\n",
        "    model.compile(loss='binary_crossentropy', optimizer=optimizer,metrics=['accuracy'])\n",
        "    return model"
      ],
      "execution_count": 11,
      "outputs": []
    },
    {
      "cell_type": "code",
      "metadata": {
        "colab": {
          "base_uri": "https://localhost:8080/"
        },
        "id": "2cvgLi-DVDnW",
        "outputId": "9e2a9743-5fb6-4116-c944-17658d7b73db"
      },
      "source": [
        "# create model\n",
        "model = KerasClassifier(build_fn=create_model, verbose=1)\n",
        "# define the grid search parameters\n",
        "# dense_layer_sizes = [(200,150,100),(250,100,50),(100,50,25),(60,30,10)]\n",
        "# batch_sizes = [16,32,64]\n",
        "# epochs = [10,40,50]\n",
        "# optimizers = ['RMSprop', 'Adam', 'Adamax', 'sgd'],\n",
        "# dropout = [0,0.1,0.2]\n",
        "dense_layer_sizes = [(200,150,100),(250,100,25)]#,(50,25,15),(60,30,10)]\n",
        "batch_sizes = [16]\n",
        "epochs = [30]\n",
        "optimizers = ['Adam']\n",
        "dropout = [0]#,0.1]\n",
        "#\n",
        "param_grid = dict(dense_layer_sizes=dense_layer_sizes, epochs=epochs, batch_size=batch_sizes,optimizer=optimizers,dropout=dropout)\n",
        "grid = GridSearchCV(estimator=model, param_grid=param_grid, scoring='roc_auc_ovr', n_jobs=1, cv=2, verbose = 2,return_train_score=True)\n",
        "grid_result = grid.fit(X, y)\n",
        "# summarize results\n",
        "print(\"Best: %f using %s\" % (grid_result.best_score_, grid_result.best_params_))\n",
        "params = grid_result.cv_results_['params']\n",
        "for mean, stdev, param in zip(means, stds, params):\n",
        "    print(\"%f (%f) with: %r\" % (mean, stdev, param))\n",
        "\n",
        "# make a prediction for test data\n",
        "df_test_noid = df_test.drop(['id'], axis=1)\n",
        "X_test = df_test_noid.to_numpy()\n",
        "print(X_test.shape)\n",
        "\n",
        "y_test = grid.best_estimator_.predict_proba(X_test)\n",
        "\n",
        "print('Predicted: %s' % y_test[0])\n",
        "print(y_test)\n",
        "# save as csv_file in sample submission format\n",
        "# put it together in a dataframe and save\n",
        "from google.colab import  drive\n",
        "\n",
        "def save_csv(df, savestr):\n",
        "  drive.mount(\"/drive\", force_remount=True)\n",
        "  df.to_csv('/drive/My Drive/CS155_miniproject_1/'+str(savestr)+'.csv')\n",
        "\n",
        "df = pd.DataFrame(y_test)\n",
        "predictions = pd.DataFrame(df_test['id'])\n",
        "predictions['P1']=y_test[:,0]\n",
        "predictions['P2']=y_test[:,1]\n",
        "predictions['P3']=y_test[:,2]\n",
        "predictions['P4']=y_test[:,3]\n",
        "predictions = predictions.set_index('id')\n",
        "predictions.head()\n",
        "save_csv(predictions,'predictions_neural_net_standard_logfiresize_gridsearch_opt')"
      ],
      "execution_count": null,
      "outputs": [
        {
          "output_type": "stream",
          "text": [
            "Fitting 2 folds for each of 2 candidates, totalling 4 fits\n",
            "[CV] batch_size=16, dense_layer_sizes=(200, 150, 100), dropout=0, epochs=30, optimizer=Adam \n",
            "Epoch 1/30\n"
          ],
          "name": "stdout"
        },
        {
          "output_type": "stream",
          "text": [
            "[Parallel(n_jobs=1)]: Using backend SequentialBackend with 1 concurrent workers.\n"
          ],
          "name": "stderr"
        },
        {
          "output_type": "stream",
          "text": [
            "8919/8919 [==============================] - 26s 3ms/step - loss: 0.4348 - accuracy: 0.5689\n",
            "Epoch 2/30\n",
            "8919/8919 [==============================] - 26s 3ms/step - loss: 0.4118 - accuracy: 0.5900\n",
            "Epoch 3/30\n",
            "8919/8919 [==============================] - 25s 3ms/step - loss: 0.4056 - accuracy: 0.5986\n",
            "Epoch 4/30\n",
            "8919/8919 [==============================] - 26s 3ms/step - loss: 0.4008 - accuracy: 0.6070\n",
            "Epoch 5/30\n",
            "8919/8919 [==============================] - 26s 3ms/step - loss: 0.3983 - accuracy: 0.6074\n",
            "Epoch 6/30\n",
            "8919/8919 [==============================] - 25s 3ms/step - loss: 0.3962 - accuracy: 0.6113\n",
            "Epoch 7/30\n",
            "8919/8919 [==============================] - 25s 3ms/step - loss: 0.3948 - accuracy: 0.6118\n",
            "Epoch 8/30\n",
            "8919/8919 [==============================] - 26s 3ms/step - loss: 0.3931 - accuracy: 0.6144\n",
            "Epoch 9/30\n",
            "8919/8919 [==============================] - 28s 3ms/step - loss: 0.3917 - accuracy: 0.6165\n",
            "Epoch 10/30\n",
            "8919/8919 [==============================] - 26s 3ms/step - loss: 0.3911 - accuracy: 0.6147\n",
            "Epoch 11/30\n",
            "8919/8919 [==============================] - 26s 3ms/step - loss: 0.3911 - accuracy: 0.6171\n",
            "Epoch 12/30\n",
            "8919/8919 [==============================] - 25s 3ms/step - loss: 0.3898 - accuracy: 0.6169\n",
            "Epoch 13/30\n",
            "8919/8919 [==============================] - 25s 3ms/step - loss: 0.3890 - accuracy: 0.6187\n",
            "Epoch 14/30\n",
            "8919/8919 [==============================] - 26s 3ms/step - loss: 0.3892 - accuracy: 0.6168\n",
            "Epoch 15/30\n",
            "8919/8919 [==============================] - 25s 3ms/step - loss: 0.3887 - accuracy: 0.6201\n",
            "Epoch 16/30\n",
            "8919/8919 [==============================] - 25s 3ms/step - loss: 0.3878 - accuracy: 0.6186\n",
            "Epoch 17/30\n",
            "8919/8919 [==============================] - 26s 3ms/step - loss: 0.3887 - accuracy: 0.6186\n",
            "Epoch 18/30\n",
            "8919/8919 [==============================] - 25s 3ms/step - loss: 0.3851 - accuracy: 0.6219\n",
            "Epoch 19/30\n",
            "8919/8919 [==============================] - 26s 3ms/step - loss: 0.3861 - accuracy: 0.6210\n",
            "Epoch 20/30\n",
            "8919/8919 [==============================] - 26s 3ms/step - loss: 0.3856 - accuracy: 0.6219\n",
            "Epoch 21/30\n",
            "8919/8919 [==============================] - 26s 3ms/step - loss: 0.3860 - accuracy: 0.6228\n",
            "Epoch 22/30\n",
            "8919/8919 [==============================] - 25s 3ms/step - loss: 0.3846 - accuracy: 0.6255\n",
            "Epoch 23/30\n",
            "8919/8919 [==============================] - 25s 3ms/step - loss: 0.3850 - accuracy: 0.6239\n",
            "Epoch 24/30\n",
            "8919/8919 [==============================] - 25s 3ms/step - loss: 0.3837 - accuracy: 0.6249\n",
            "Epoch 25/30\n",
            "8919/8919 [==============================] - 25s 3ms/step - loss: 0.3842 - accuracy: 0.6264\n",
            "Epoch 26/30\n",
            "8919/8919 [==============================] - 26s 3ms/step - loss: 0.3818 - accuracy: 0.6266\n",
            "Epoch 27/30\n",
            "8919/8919 [==============================] - 26s 3ms/step - loss: 0.3867 - accuracy: 0.6249\n",
            "Epoch 28/30\n",
            "8919/8919 [==============================] - 26s 3ms/step - loss: 0.3827 - accuracy: 0.6262\n",
            "Epoch 29/30\n",
            "8919/8919 [==============================] - 25s 3ms/step - loss: 0.3829 - accuracy: 0.6257\n",
            "Epoch 30/30\n",
            "8919/8919 [==============================] - 25s 3ms/step - loss: 0.3817 - accuracy: 0.6263\n",
            "  54/8919 [..............................] - ETA: 8s   "
          ],
          "name": "stdout"
        },
        {
          "output_type": "stream",
          "text": [
            "/usr/local/lib/python3.6/dist-packages/tensorflow/python/keras/engine/sequential.py:425: UserWarning: `model.predict_proba()` is deprecated and will be removed after 2021-01-01. Please use `model.predict()` instead.\n",
            "  warnings.warn('`model.predict_proba()` is deprecated and '\n"
          ],
          "name": "stderr"
        },
        {
          "output_type": "stream",
          "text": [
            "8919/8919 [==============================] - 9s 970us/step\n",
            " 151/8919 [..............................] - ETA: 8s"
          ],
          "name": "stdout"
        },
        {
          "output_type": "stream",
          "text": [
            "/usr/local/lib/python3.6/dist-packages/tensorflow/python/keras/engine/sequential.py:425: UserWarning: `model.predict_proba()` is deprecated and will be removed after 2021-01-01. Please use `model.predict()` instead.\n",
            "  warnings.warn('`model.predict_proba()` is deprecated and '\n"
          ],
          "name": "stderr"
        },
        {
          "output_type": "stream",
          "text": [
            "8919/8919 [==============================] - 9s 977us/step\n",
            "[CV]  batch_size=16, dense_layer_sizes=(200, 150, 100), dropout=0, epochs=30, optimizer=Adam, total=13.0min\n",
            "[CV] batch_size=16, dense_layer_sizes=(200, 150, 100), dropout=0, epochs=30, optimizer=Adam \n",
            "Epoch 1/30\n"
          ],
          "name": "stdout"
        },
        {
          "output_type": "stream",
          "text": [
            "[Parallel(n_jobs=1)]: Done   1 out of   1 | elapsed: 13.1min remaining:    0.0s\n"
          ],
          "name": "stderr"
        },
        {
          "output_type": "stream",
          "text": [
            "8919/8919 [==============================] - 26s 3ms/step - loss: 0.4275 - accuracy: 0.6051\n",
            "Epoch 2/30\n",
            "8919/8919 [==============================] - 25s 3ms/step - loss: 0.4054 - accuracy: 0.6207\n",
            "Epoch 3/30\n",
            "8919/8919 [==============================] - 26s 3ms/step - loss: 0.3987 - accuracy: 0.6297\n",
            "Epoch 4/30\n",
            "8919/8919 [==============================] - 25s 3ms/step - loss: 0.3957 - accuracy: 0.6300\n",
            "Epoch 5/30\n",
            "8919/8919 [==============================] - 25s 3ms/step - loss: 0.3920 - accuracy: 0.6335\n",
            "Epoch 6/30\n",
            "8919/8919 [==============================] - 25s 3ms/step - loss: 0.3914 - accuracy: 0.6329\n",
            "Epoch 7/30\n",
            "8919/8919 [==============================] - 25s 3ms/step - loss: 0.3892 - accuracy: 0.6353\n",
            "Epoch 8/30\n",
            "8919/8919 [==============================] - 26s 3ms/step - loss: 0.3872 - accuracy: 0.6353\n",
            "Epoch 9/30\n",
            "8919/8919 [==============================] - 27s 3ms/step - loss: 0.3860 - accuracy: 0.6383\n",
            "Epoch 10/30\n",
            "8919/8919 [==============================] - 26s 3ms/step - loss: 0.3857 - accuracy: 0.6394\n",
            "Epoch 11/30\n",
            "8919/8919 [==============================] - 28s 3ms/step - loss: 0.3854 - accuracy: 0.6380\n",
            "Epoch 12/30\n",
            "8919/8919 [==============================] - 28s 3ms/step - loss: 0.3830 - accuracy: 0.6421\n",
            "Epoch 13/30\n",
            "8919/8919 [==============================] - 28s 3ms/step - loss: 0.3841 - accuracy: 0.6382\n",
            "Epoch 14/30\n",
            "8919/8919 [==============================] - 27s 3ms/step - loss: 0.3828 - accuracy: 0.6418\n",
            "Epoch 15/30\n",
            "8919/8919 [==============================] - 28s 3ms/step - loss: 0.3832 - accuracy: 0.6406\n",
            "Epoch 16/30\n",
            "8919/8919 [==============================] - 26s 3ms/step - loss: 0.3795 - accuracy: 0.6469\n",
            "Epoch 17/30\n",
            "8919/8919 [==============================] - 25s 3ms/step - loss: 0.3810 - accuracy: 0.6424\n",
            "Epoch 18/30\n",
            "8919/8919 [==============================] - 26s 3ms/step - loss: 0.3813 - accuracy: 0.6420\n",
            "Epoch 19/30\n",
            "8919/8919 [==============================] - 25s 3ms/step - loss: 0.3806 - accuracy: 0.6431\n",
            "Epoch 20/30\n",
            "8919/8919 [==============================] - 25s 3ms/step - loss: 0.3798 - accuracy: 0.6440\n",
            "Epoch 21/30\n",
            "8919/8919 [==============================] - 25s 3ms/step - loss: 0.3812 - accuracy: 0.6431\n",
            "Epoch 22/30\n",
            "8919/8919 [==============================] - 25s 3ms/step - loss: 0.3789 - accuracy: 0.6451\n",
            "Epoch 23/30\n",
            "8919/8919 [==============================] - 25s 3ms/step - loss: 0.3788 - accuracy: 0.6445\n",
            "Epoch 24/30\n",
            "8919/8919 [==============================] - 25s 3ms/step - loss: 0.3796 - accuracy: 0.6442\n",
            "Epoch 25/30\n",
            "8919/8919 [==============================] - 26s 3ms/step - loss: 0.3780 - accuracy: 0.6458\n",
            "Epoch 26/30\n",
            "8919/8919 [==============================] - 26s 3ms/step - loss: 0.3798 - accuracy: 0.6422\n",
            "Epoch 27/30\n",
            "8919/8919 [==============================] - 29s 3ms/step - loss: 0.3782 - accuracy: 0.6461\n",
            "Epoch 28/30\n",
            "8919/8919 [==============================] - 26s 3ms/step - loss: 0.3775 - accuracy: 0.6465\n",
            "Epoch 29/30\n",
            "8919/8919 [==============================] - 26s 3ms/step - loss: 0.3765 - accuracy: 0.6484\n",
            "Epoch 30/30\n",
            "8919/8919 [==============================] - 26s 3ms/step - loss: 0.3774 - accuracy: 0.6467\n",
            " 104/8919 [..............................] - ETA: 8s"
          ],
          "name": "stdout"
        },
        {
          "output_type": "stream",
          "text": [
            "/usr/local/lib/python3.6/dist-packages/tensorflow/python/keras/engine/sequential.py:425: UserWarning: `model.predict_proba()` is deprecated and will be removed after 2021-01-01. Please use `model.predict()` instead.\n",
            "  warnings.warn('`model.predict_proba()` is deprecated and '\n"
          ],
          "name": "stderr"
        },
        {
          "output_type": "stream",
          "text": [
            "8919/8919 [==============================] - 9s 977us/step\n",
            " 156/8919 [..............................] - ETA: 8s"
          ],
          "name": "stdout"
        },
        {
          "output_type": "stream",
          "text": [
            "/usr/local/lib/python3.6/dist-packages/tensorflow/python/keras/engine/sequential.py:425: UserWarning: `model.predict_proba()` is deprecated and will be removed after 2021-01-01. Please use `model.predict()` instead.\n",
            "  warnings.warn('`model.predict_proba()` is deprecated and '\n"
          ],
          "name": "stderr"
        },
        {
          "output_type": "stream",
          "text": [
            "8919/8919 [==============================] - 9s 982us/step\n",
            "[CV]  batch_size=16, dense_layer_sizes=(200, 150, 100), dropout=0, epochs=30, optimizer=Adam, total=13.2min\n",
            "[CV] batch_size=16, dense_layer_sizes=(250, 100, 25), dropout=0, epochs=30, optimizer=Adam \n",
            "Epoch 1/30\n",
            "8919/8919 [==============================] - 29s 3ms/step - loss: 0.4363 - accuracy: 0.5670\n",
            "Epoch 2/30\n",
            "8919/8919 [==============================] - 28s 3ms/step - loss: 0.4136 - accuracy: 0.5874\n",
            "Epoch 3/30\n",
            "8919/8919 [==============================] - 29s 3ms/step - loss: 0.4071 - accuracy: 0.5954\n",
            "Epoch 4/30\n",
            "8919/8919 [==============================] - 29s 3ms/step - loss: 0.4014 - accuracy: 0.6008\n",
            "Epoch 5/30\n",
            "8919/8919 [==============================] - 30s 3ms/step - loss: 0.3989 - accuracy: 0.6061\n",
            "Epoch 6/30\n",
            "8919/8919 [==============================] - 31s 3ms/step - loss: 0.3963 - accuracy: 0.6083\n",
            "Epoch 7/30\n",
            "8919/8919 [==============================] - 30s 3ms/step - loss: 0.3946 - accuracy: 0.6111\n",
            "Epoch 8/30\n",
            "8919/8919 [==============================] - 30s 3ms/step - loss: 0.3933 - accuracy: 0.6113\n",
            "Epoch 9/30\n",
            "8919/8919 [==============================] - 29s 3ms/step - loss: 0.3920 - accuracy: 0.6128\n",
            "Epoch 10/30\n",
            "8919/8919 [==============================] - 29s 3ms/step - loss: 0.3912 - accuracy: 0.6157\n",
            "Epoch 11/30\n",
            "8919/8919 [==============================] - 29s 3ms/step - loss: 0.3904 - accuracy: 0.6163\n",
            "Epoch 12/30\n",
            "8919/8919 [==============================] - 29s 3ms/step - loss: 0.3886 - accuracy: 0.6170\n",
            "Epoch 13/30\n",
            "8919/8919 [==============================] - 28s 3ms/step - loss: 0.3893 - accuracy: 0.6163\n",
            "Epoch 14/30\n",
            "8919/8919 [==============================] - 29s 3ms/step - loss: 0.3893 - accuracy: 0.6167\n",
            "Epoch 15/30\n",
            "8919/8919 [==============================] - 29s 3ms/step - loss: 0.3895 - accuracy: 0.6177\n",
            "Epoch 16/30\n",
            "8919/8919 [==============================] - 30s 3ms/step - loss: 0.3880 - accuracy: 0.6204\n",
            "Epoch 17/30\n",
            "8919/8919 [==============================] - 29s 3ms/step - loss: 0.3876 - accuracy: 0.6202\n",
            "Epoch 18/30\n",
            "8919/8919 [==============================] - 31s 3ms/step - loss: 0.3875 - accuracy: 0.6197\n",
            "Epoch 19/30\n",
            "8919/8919 [==============================] - 30s 3ms/step - loss: 0.3859 - accuracy: 0.6227\n",
            "Epoch 20/30\n",
            "8919/8919 [==============================] - 30s 3ms/step - loss: 0.3851 - accuracy: 0.6245\n",
            "Epoch 21/30\n",
            "8919/8919 [==============================] - 30s 3ms/step - loss: 0.3856 - accuracy: 0.6216\n",
            "Epoch 22/30\n",
            "8919/8919 [==============================] - 31s 3ms/step - loss: 0.3855 - accuracy: 0.6214\n",
            "Epoch 23/30\n",
            "8919/8919 [==============================] - 32s 4ms/step - loss: 0.3842 - accuracy: 0.6239\n",
            "Epoch 24/30\n",
            "8919/8919 [==============================] - 32s 4ms/step - loss: 0.3850 - accuracy: 0.6249\n",
            "Epoch 25/30\n",
            "8919/8919 [==============================] - 32s 4ms/step - loss: 0.3845 - accuracy: 0.6242\n",
            "Epoch 26/30\n",
            "8919/8919 [==============================] - 32s 4ms/step - loss: 0.3836 - accuracy: 0.6247\n",
            "Epoch 27/30\n",
            "8919/8919 [==============================] - 31s 3ms/step - loss: 0.3836 - accuracy: 0.6246\n",
            "Epoch 28/30\n",
            "8919/8919 [==============================] - 32s 4ms/step - loss: 0.3812 - accuracy: 0.6280\n",
            "Epoch 29/30\n",
            "8919/8919 [==============================] - 31s 3ms/step - loss: 0.3820 - accuracy: 0.6258\n",
            "Epoch 30/30\n",
            "8919/8919 [==============================] - 30s 3ms/step - loss: 0.3804 - accuracy: 0.6295\n",
            "  43/8919 [..............................] - ETA: 10s "
          ],
          "name": "stdout"
        },
        {
          "output_type": "stream",
          "text": [
            "/usr/local/lib/python3.6/dist-packages/tensorflow/python/keras/engine/sequential.py:425: UserWarning: `model.predict_proba()` is deprecated and will be removed after 2021-01-01. Please use `model.predict()` instead.\n",
            "  warnings.warn('`model.predict_proba()` is deprecated and '\n"
          ],
          "name": "stderr"
        },
        {
          "output_type": "stream",
          "text": [
            "8919/8919 [==============================] - 10s 1ms/step\n",
            "  89/8919 [..............................] - ETA: 10s"
          ],
          "name": "stdout"
        },
        {
          "output_type": "stream",
          "text": [
            "/usr/local/lib/python3.6/dist-packages/tensorflow/python/keras/engine/sequential.py:425: UserWarning: `model.predict_proba()` is deprecated and will be removed after 2021-01-01. Please use `model.predict()` instead.\n",
            "  warnings.warn('`model.predict_proba()` is deprecated and '\n"
          ],
          "name": "stderr"
        },
        {
          "output_type": "stream",
          "text": [
            "8919/8919 [==============================] - 10s 1ms/step\n",
            "[CV]  batch_size=16, dense_layer_sizes=(250, 100, 25), dropout=0, epochs=30, optimizer=Adam, total=15.1min\n",
            "[CV] batch_size=16, dense_layer_sizes=(250, 100, 25), dropout=0, epochs=30, optimizer=Adam \n",
            "Epoch 1/30\n",
            "8919/8919 [==============================] - 30s 3ms/step - loss: 0.4287 - accuracy: 0.6023\n",
            "Epoch 2/30\n",
            "8919/8919 [==============================] - 29s 3ms/step - loss: 0.4062 - accuracy: 0.6212\n",
            "Epoch 3/30\n",
            "8919/8919 [==============================] - 29s 3ms/step - loss: 0.4023 - accuracy: 0.6244\n",
            "Epoch 4/30\n",
            "8919/8919 [==============================] - 30s 3ms/step - loss: 0.3969 - accuracy: 0.6285\n",
            "Epoch 5/30\n",
            "8919/8919 [==============================] - 29s 3ms/step - loss: 0.3946 - accuracy: 0.6301\n",
            "Epoch 6/30\n",
            "8919/8919 [==============================] - 30s 3ms/step - loss: 0.3931 - accuracy: 0.6315\n",
            "Epoch 7/30\n",
            "8919/8919 [==============================] - 29s 3ms/step - loss: 0.3903 - accuracy: 0.6343\n",
            "Epoch 8/30\n",
            "8919/8919 [==============================] - 32s 4ms/step - loss: 0.3888 - accuracy: 0.6366\n",
            "Epoch 9/30\n",
            "8919/8919 [==============================] - 29s 3ms/step - loss: 0.3875 - accuracy: 0.6373\n",
            "Epoch 10/30\n",
            "8919/8919 [==============================] - 30s 3ms/step - loss: 0.3862 - accuracy: 0.6376\n",
            "Epoch 11/30\n",
            "8919/8919 [==============================] - 29s 3ms/step - loss: 0.3848 - accuracy: 0.6413\n",
            "Epoch 12/30\n",
            "8919/8919 [==============================] - 29s 3ms/step - loss: 0.3849 - accuracy: 0.6401\n",
            "Epoch 13/30\n",
            "8919/8919 [==============================] - 29s 3ms/step - loss: 0.3840 - accuracy: 0.6417\n",
            "Epoch 14/30\n",
            "8919/8919 [==============================] - 29s 3ms/step - loss: 0.3835 - accuracy: 0.6404\n",
            "Epoch 15/30\n",
            "8919/8919 [==============================] - 29s 3ms/step - loss: 0.3838 - accuracy: 0.6393\n",
            "Epoch 16/30\n",
            "8919/8919 [==============================] - 30s 3ms/step - loss: 0.3826 - accuracy: 0.6426\n",
            "Epoch 17/30\n",
            "8919/8919 [==============================] - 28s 3ms/step - loss: 0.3815 - accuracy: 0.6428\n",
            "Epoch 18/30\n",
            "8919/8919 [==============================] - 29s 3ms/step - loss: 0.3814 - accuracy: 0.6413\n",
            "Epoch 19/30\n",
            "8919/8919 [==============================] - 30s 3ms/step - loss: 0.3813 - accuracy: 0.6416\n",
            "Epoch 20/30\n",
            " 309/8919 [>.............................] - ETA: 27s - loss: 0.3879 - accuracy: 0.6459"
          ],
          "name": "stdout"
        }
      ]
    },
    {
      "cell_type": "code",
      "metadata": {
        "colab": {
          "base_uri": "https://localhost:8080/",
          "height": 215
        },
        "id": "FkjoaDJiuC2G",
        "outputId": "c584eea7-161a-47de-d51f-2bd697167d02"
      },
      "source": [
        "y_test = grid.best_estimator_.predict_proba(X_test)\n",
        "\n",
        "print('Predicted: %s' % y_test[0])\n",
        "print(y_test)"
      ],
      "execution_count": 2,
      "outputs": [
        {
          "output_type": "error",
          "ename": "NameError",
          "evalue": "ignored",
          "traceback": [
            "\u001b[0;31m---------------------------------------------------------------------------\u001b[0m",
            "\u001b[0;31mNameError\u001b[0m                                 Traceback (most recent call last)",
            "\u001b[0;32m<ipython-input-2-9929d475a43f>\u001b[0m in \u001b[0;36m<module>\u001b[0;34m()\u001b[0m\n\u001b[0;32m----> 1\u001b[0;31m \u001b[0my_test\u001b[0m \u001b[0;34m=\u001b[0m \u001b[0mgrid\u001b[0m\u001b[0;34m.\u001b[0m\u001b[0mbest_estimator_\u001b[0m\u001b[0;34m.\u001b[0m\u001b[0mpredict_proba\u001b[0m\u001b[0;34m(\u001b[0m\u001b[0mX_test\u001b[0m\u001b[0;34m)\u001b[0m\u001b[0;34m\u001b[0m\u001b[0;34m\u001b[0m\u001b[0m\n\u001b[0m\u001b[1;32m      2\u001b[0m \u001b[0;34m\u001b[0m\u001b[0m\n\u001b[1;32m      3\u001b[0m \u001b[0mprint\u001b[0m\u001b[0;34m(\u001b[0m\u001b[0;34m'Predicted: %s'\u001b[0m \u001b[0;34m%\u001b[0m \u001b[0my_test\u001b[0m\u001b[0;34m[\u001b[0m\u001b[0;36m0\u001b[0m\u001b[0;34m]\u001b[0m\u001b[0;34m)\u001b[0m\u001b[0;34m\u001b[0m\u001b[0;34m\u001b[0m\u001b[0m\n\u001b[1;32m      4\u001b[0m \u001b[0mprint\u001b[0m\u001b[0;34m(\u001b[0m\u001b[0my_test\u001b[0m\u001b[0;34m)\u001b[0m\u001b[0;34m\u001b[0m\u001b[0;34m\u001b[0m\u001b[0m\n",
            "\u001b[0;31mNameError\u001b[0m: name 'grid' is not defined"
          ]
        }
      ]
    },
    {
      "cell_type": "code",
      "metadata": {
        "colab": {
          "base_uri": "https://localhost:8080/"
        },
        "id": "j_5mGVRCtHa4",
        "outputId": "5838b41e-7240-4db2-9f3f-5e58f3e3dcdd"
      },
      "source": [
        "# # get the model\n",
        "# def get_model(n_inputs, n_outputs):\n",
        "#   # 0.792 in kaggle with dropped features and 40 epochs\n",
        "#   model = Sequential()\n",
        "#   model.add(Dense(5, input_dim=n_inputs, kernel_initializer='he_uniform', activation='relu'))\n",
        "#   model.add(Dropout(0), )\n",
        "#   #model.add(Dense(3, input_dim=5, kernel_initializer='he_uniform', activation='relu')) # tried selu also \n",
        "#   model.add(Dense(3, input_dim=3, kernel_initializer='he_uniform', activation='relu')) # tried selu also \n",
        "#   model.add(Dropout(0), )\n",
        "#   # last layer fix for multi-classification probabilities\n",
        "#   model.add(Dense(n_outputs, activation='sigmoid'))\n",
        "#   model.add(Dropout(0), )\n",
        "#   model.compile(loss='binary_crossentropy', optimizer='adam') # tried adamax also\n",
        "#   return model\n",
        "\n",
        "# # load dataset\n",
        "# df_train_X = df_train.drop(['id','LABEL','0','1','2','3'], axis =1)\n",
        "# df_train_y = df_train.drop(['id','LATITUDE','LONGITUDE','DISCOVERY_TIME','FIRE_SIZE','FIPS_NAME','DAY','LABEL'], axis=1)\n",
        "\n",
        "# # X = df_train_X.to_numpy()\n",
        "# # y = df_train_y.to_numpy()\n",
        "# n_inputs, n_outputs = X.shape[1], y.shape[1]\n",
        "# # get model\n",
        "\n",
        "# model = get_model(n_inputs, n_outputs)\n",
        "# # fit the model on all data\n",
        "# with tf.device('/device:GPU:0'):\n",
        "#   # simple early stopping\n",
        "#   #es = EarlyStopping(monitor='loss', mode='min', verbose=1, patience=5)\n",
        "#   # mc = ModelCheckpoint('best_model.h5', monitor='loss', mode='max', verbose=1, save_best_only=True)\n",
        "#   history = model.fit(X, y, verbose=1, epochs=1)\n",
        "# # make a prediction for test data\n",
        "# df_test_noid = df_test.drop(['id'], axis=1)\n",
        "# X_test = df_test_noid.to_numpy()\n",
        "# print(X_test.shape)\n",
        "\n",
        "# y_test = model.predict(X_test)\n",
        "\n",
        "# print('Predicted: %s' % y_test[0])\n",
        "# print(y_test)"
      ],
      "execution_count": 63,
      "outputs": [
        {
          "output_type": "stream",
          "text": [
            "8919/8919 [==============================] - 19s 2ms/step - loss: 0.4810\n",
            "(73035, 6)\n",
            "Predicted: [0.08812517 0.45361853 0.07741149 0.30435774]\n",
            "[[0.08812517 0.45361853 0.07741149 0.30435774]\n",
            " [0.09311597 0.45237437 0.08085793 0.30605784]\n",
            " [0.10830888 0.4489263  0.09116152 0.31080157]\n",
            " ...\n",
            " [0.07964306 0.45588884 0.07147143 0.30127126]\n",
            " [0.09664863 0.4515298  0.08327775 0.30721548]\n",
            " [0.14771537 0.44164786 0.11691857 0.32096875]]\n"
          ],
          "name": "stdout"
        }
      ]
    },
    {
      "cell_type": "code",
      "metadata": {
        "colab": {
          "base_uri": "https://localhost:8080/"
        },
        "id": "WIehGWc8pIsY",
        "outputId": "36ff7152-defe-4708-eed8-cd9e8fa9c746"
      },
      "source": [
        "# yhat_classes2 = grid.best_estimator_.predict(X_test)\n",
        "# print(yhat_classes2)"
      ],
      "execution_count": 60,
      "outputs": [
        {
          "output_type": "stream",
          "text": [
            " 166/4565 [>.............................] - ETA: 4s"
          ],
          "name": "stdout"
        },
        {
          "output_type": "stream",
          "text": [
            "/usr/local/lib/python3.6/dist-packages/tensorflow/python/keras/engine/sequential.py:450: UserWarning: `model.predict_classes()` is deprecated and will be removed after 2021-01-01. Please use instead:* `np.argmax(model.predict(x), axis=-1)`,   if your model does multi-class classification   (e.g. if it uses a `softmax` last-layer activation).* `(model.predict(x) > 0.5).astype(\"int32\")`,   if your model does binary classification   (e.g. if it uses a `sigmoid` last-layer activation).\n",
            "  warnings.warn('`model.predict_classes()` is deprecated and '\n"
          ],
          "name": "stderr"
        },
        {
          "output_type": "stream",
          "text": [
            "4565/4565 [==============================] - 5s 1ms/step\n",
            "[1 1 1 ... 1 1 1]\n"
          ],
          "name": "stdout"
        }
      ]
    },
    {
      "cell_type": "code",
      "metadata": {
        "colab": {
          "base_uri": "https://localhost:8080/",
          "height": 531
        },
        "id": "LGLc3g26j3G8",
        "outputId": "623605b3-e951-4550-d7a8-d926e03fb33a"
      },
      "source": [
        "# # make a prediction for test data\n",
        "# df_test_noid = df_test.drop(['id'], axis=1)\n",
        "# X_test = df_test_noid.to_numpy()\n",
        "# print(X_test.shape)\n",
        "\n",
        "# y_test = grid.best_estimator_.predict(X_test)\n",
        "\n",
        "# print('Predicted: %s' % y_test[0])\n",
        "# print(y_test)\n",
        "\n",
        "# yhat_classes2 = np.argmax(grid.best_estimator_.predict(X_test), axis=1)\n",
        "# print(yhat_classes2)"
      ],
      "execution_count": 55,
      "outputs": [
        {
          "output_type": "stream",
          "text": [
            "(73035, 6)\n",
            " 160/4565 [>.............................] - ETA: 4s"
          ],
          "name": "stdout"
        },
        {
          "output_type": "stream",
          "text": [
            "/usr/local/lib/python3.6/dist-packages/tensorflow/python/keras/engine/sequential.py:450: UserWarning: `model.predict_classes()` is deprecated and will be removed after 2021-01-01. Please use instead:* `np.argmax(model.predict(x), axis=-1)`,   if your model does multi-class classification   (e.g. if it uses a `softmax` last-layer activation).* `(model.predict(x) > 0.5).astype(\"int32\")`,   if your model does binary classification   (e.g. if it uses a `sigmoid` last-layer activation).\n",
            "  warnings.warn('`model.predict_classes()` is deprecated and '\n"
          ],
          "name": "stderr"
        },
        {
          "output_type": "stream",
          "text": [
            "4565/4565 [==============================] - 4s 972us/step\n",
            "Predicted: 1\n",
            "[1 1 1 ... 1 1 1]\n",
            "4565/4565 [==============================] - 4s 970us/step\n"
          ],
          "name": "stdout"
        },
        {
          "output_type": "error",
          "ename": "AxisError",
          "evalue": "ignored",
          "traceback": [
            "\u001b[0;31m---------------------------------------------------------------------------\u001b[0m",
            "\u001b[0;31mAxisError\u001b[0m                                 Traceback (most recent call last)",
            "\u001b[0;32m<ipython-input-55-6553844154ee>\u001b[0m in \u001b[0;36m<module>\u001b[0;34m()\u001b[0m\n\u001b[1;32m      9\u001b[0m \u001b[0mprint\u001b[0m\u001b[0;34m(\u001b[0m\u001b[0my_test\u001b[0m\u001b[0;34m)\u001b[0m\u001b[0;34m\u001b[0m\u001b[0;34m\u001b[0m\u001b[0m\n\u001b[1;32m     10\u001b[0m \u001b[0;34m\u001b[0m\u001b[0m\n\u001b[0;32m---> 11\u001b[0;31m \u001b[0myhat_classes2\u001b[0m \u001b[0;34m=\u001b[0m \u001b[0mnp\u001b[0m\u001b[0;34m.\u001b[0m\u001b[0margmax\u001b[0m\u001b[0;34m(\u001b[0m\u001b[0mgrid\u001b[0m\u001b[0;34m.\u001b[0m\u001b[0mbest_estimator_\u001b[0m\u001b[0;34m.\u001b[0m\u001b[0mpredict\u001b[0m\u001b[0;34m(\u001b[0m\u001b[0mX_test\u001b[0m\u001b[0;34m)\u001b[0m\u001b[0;34m,\u001b[0m \u001b[0maxis\u001b[0m\u001b[0;34m=\u001b[0m\u001b[0;36m1\u001b[0m\u001b[0;34m)\u001b[0m\u001b[0;34m\u001b[0m\u001b[0;34m\u001b[0m\u001b[0m\n\u001b[0m\u001b[1;32m     12\u001b[0m \u001b[0mprint\u001b[0m\u001b[0;34m(\u001b[0m\u001b[0myhat_classes2\u001b[0m\u001b[0;34m)\u001b[0m\u001b[0;34m\u001b[0m\u001b[0;34m\u001b[0m\u001b[0m\n",
            "\u001b[0;32m<__array_function__ internals>\u001b[0m in \u001b[0;36margmax\u001b[0;34m(*args, **kwargs)\u001b[0m\n",
            "\u001b[0;32m/usr/local/lib/python3.6/dist-packages/numpy/core/fromnumeric.py\u001b[0m in \u001b[0;36margmax\u001b[0;34m(a, axis, out)\u001b[0m\n\u001b[1;32m   1186\u001b[0m \u001b[0;34m\u001b[0m\u001b[0m\n\u001b[1;32m   1187\u001b[0m     \"\"\"\n\u001b[0;32m-> 1188\u001b[0;31m     \u001b[0;32mreturn\u001b[0m \u001b[0m_wrapfunc\u001b[0m\u001b[0;34m(\u001b[0m\u001b[0ma\u001b[0m\u001b[0;34m,\u001b[0m \u001b[0;34m'argmax'\u001b[0m\u001b[0;34m,\u001b[0m \u001b[0maxis\u001b[0m\u001b[0;34m=\u001b[0m\u001b[0maxis\u001b[0m\u001b[0;34m,\u001b[0m \u001b[0mout\u001b[0m\u001b[0;34m=\u001b[0m\u001b[0mout\u001b[0m\u001b[0;34m)\u001b[0m\u001b[0;34m\u001b[0m\u001b[0;34m\u001b[0m\u001b[0m\n\u001b[0m\u001b[1;32m   1189\u001b[0m \u001b[0;34m\u001b[0m\u001b[0m\n\u001b[1;32m   1190\u001b[0m \u001b[0;34m\u001b[0m\u001b[0m\n",
            "\u001b[0;32m/usr/local/lib/python3.6/dist-packages/numpy/core/fromnumeric.py\u001b[0m in \u001b[0;36m_wrapfunc\u001b[0;34m(obj, method, *args, **kwds)\u001b[0m\n\u001b[1;32m     56\u001b[0m \u001b[0;34m\u001b[0m\u001b[0m\n\u001b[1;32m     57\u001b[0m     \u001b[0;32mtry\u001b[0m\u001b[0;34m:\u001b[0m\u001b[0;34m\u001b[0m\u001b[0;34m\u001b[0m\u001b[0m\n\u001b[0;32m---> 58\u001b[0;31m         \u001b[0;32mreturn\u001b[0m \u001b[0mbound\u001b[0m\u001b[0;34m(\u001b[0m\u001b[0;34m*\u001b[0m\u001b[0margs\u001b[0m\u001b[0;34m,\u001b[0m \u001b[0;34m**\u001b[0m\u001b[0mkwds\u001b[0m\u001b[0;34m)\u001b[0m\u001b[0;34m\u001b[0m\u001b[0;34m\u001b[0m\u001b[0m\n\u001b[0m\u001b[1;32m     59\u001b[0m     \u001b[0;32mexcept\u001b[0m \u001b[0mTypeError\u001b[0m\u001b[0;34m:\u001b[0m\u001b[0;34m\u001b[0m\u001b[0;34m\u001b[0m\u001b[0m\n\u001b[1;32m     60\u001b[0m         \u001b[0;31m# A TypeError occurs if the object does have such a method in its\u001b[0m\u001b[0;34m\u001b[0m\u001b[0;34m\u001b[0m\u001b[0;34m\u001b[0m\u001b[0m\n",
            "\u001b[0;31mAxisError\u001b[0m: axis 1 is out of bounds for array of dimension 1"
          ]
        }
      ]
    },
    {
      "cell_type": "code",
      "metadata": {
        "id": "oeIL4lrIHEmI"
      },
      "source": [
        "# kears_estimator = KerasClassifier(build_fn=create_model, verbose=1)"
      ],
      "execution_count": 26,
      "outputs": []
    },
    {
      "cell_type": "code",
      "metadata": {
        "id": "OphLjLaKIiF0"
      },
      "source": [
        "# estimator = Pipeline([(\"kc\", kears_estimator)])"
      ],
      "execution_count": 27,
      "outputs": []
    },
    {
      "cell_type": "code",
      "metadata": {
        "id": "z2XjUhxLHFXd"
      },
      "source": [
        "\n",
        "# # define the grid search parameters\n",
        "# param_grid = {\n",
        "#     'kc__epochs': [10, 100, ],\n",
        "#     'kc__dense_nparams': [32, 256, 512],\n",
        "#     'kc__init': [ 'uniform', 'zeros', 'normal', ], \n",
        "#     'kc__batch_size':[2, 16, 32],\n",
        "#     'kc__optimizer':['RMSprop', 'Adam', 'Adamax', 'sgd'],\n",
        "#     'kc__dropout': [0.5, 0.4, 0.3, 0.2, 0.1, 0]\n",
        "# }"
      ],
      "execution_count": 28,
      "outputs": []
    },
    {
      "cell_type": "code",
      "metadata": {
        "id": "AastnWiHHdFa"
      },
      "source": [
        "# kfold_splits = 5\n",
        "# grid = GridSearchCV(estimator=estimator,  \n",
        "#                     n_jobs=-1, \n",
        "#                     verbose=1,\n",
        "#                     return_train_score=True,\n",
        "#                     cv=kfold_splits,  #StratifiedKFold(n_splits=kfold_splits, shuffle=True)\n",
        "                    # param_grid=param_grid,)"
      ],
      "execution_count": 29,
      "outputs": []
    },
    {
      "cell_type": "code",
      "metadata": {
        "colab": {
          "base_uri": "https://localhost:8080/",
          "height": 409
        },
        "id": "iV8AmrvJHhRM",
        "outputId": "9352cf80-fd4e-4356-e4e3-12bb917c6d59"
      },
      "source": [
        "# grid_result = grid.fit(X, y, ) #callbacks=[tbCallBack]\n",
        "\n",
        "# # summarize results\n",
        "# print(\"Best: %f using %s\" % (grid_result.best_score_, grid_result.best_params_))\n",
        "# means = grid_result.cv_results_['mean_test_score']\n",
        "# stds = grid_result.cv_results_['std_test_score']\n",
        "# params = grid_result.cv_results_['params']\n",
        "# for mean, stdev, param in zip(means, stds, params):\n",
        "#     print(\"%f (%f) with: %r\" % (mean, stdev, param))"
      ],
      "execution_count": 30,
      "outputs": [
        {
          "output_type": "stream",
          "text": [
            "Fitting 5 folds for each of 1296 candidates, totalling 6480 fits\n"
          ],
          "name": "stdout"
        },
        {
          "output_type": "stream",
          "text": [
            "[Parallel(n_jobs=-1)]: Using backend LokyBackend with 2 concurrent workers.\n"
          ],
          "name": "stderr"
        },
        {
          "output_type": "error",
          "ename": "KeyboardInterrupt",
          "evalue": "ignored",
          "traceback": [
            "\u001b[0;31m---------------------------------------------------------------------------\u001b[0m",
            "\u001b[0;31mKeyboardInterrupt\u001b[0m                         Traceback (most recent call last)",
            "\u001b[0;32m<ipython-input-30-022c31fc48be>\u001b[0m in \u001b[0;36m<module>\u001b[0;34m()\u001b[0m\n\u001b[0;32m----> 1\u001b[0;31m \u001b[0mgrid_result\u001b[0m \u001b[0;34m=\u001b[0m \u001b[0mgrid\u001b[0m\u001b[0;34m.\u001b[0m\u001b[0mfit\u001b[0m\u001b[0;34m(\u001b[0m\u001b[0mX\u001b[0m\u001b[0;34m,\u001b[0m \u001b[0my\u001b[0m\u001b[0;34m,\u001b[0m \u001b[0;34m)\u001b[0m \u001b[0;31m#callbacks=[tbCallBack]\u001b[0m\u001b[0;34m\u001b[0m\u001b[0;34m\u001b[0m\u001b[0m\n\u001b[0m\u001b[1;32m      2\u001b[0m \u001b[0;34m\u001b[0m\u001b[0m\n\u001b[1;32m      3\u001b[0m \u001b[0;31m# summarize results\u001b[0m\u001b[0;34m\u001b[0m\u001b[0;34m\u001b[0m\u001b[0;34m\u001b[0m\u001b[0m\n\u001b[1;32m      4\u001b[0m \u001b[0mprint\u001b[0m\u001b[0;34m(\u001b[0m\u001b[0;34m\"Best: %f using %s\"\u001b[0m \u001b[0;34m%\u001b[0m \u001b[0;34m(\u001b[0m\u001b[0mgrid_result\u001b[0m\u001b[0;34m.\u001b[0m\u001b[0mbest_score_\u001b[0m\u001b[0;34m,\u001b[0m \u001b[0mgrid_result\u001b[0m\u001b[0;34m.\u001b[0m\u001b[0mbest_params_\u001b[0m\u001b[0;34m)\u001b[0m\u001b[0;34m)\u001b[0m\u001b[0;34m\u001b[0m\u001b[0;34m\u001b[0m\u001b[0m\n\u001b[1;32m      5\u001b[0m \u001b[0mmeans\u001b[0m \u001b[0;34m=\u001b[0m \u001b[0mgrid_result\u001b[0m\u001b[0;34m.\u001b[0m\u001b[0mcv_results_\u001b[0m\u001b[0;34m[\u001b[0m\u001b[0;34m'mean_test_score'\u001b[0m\u001b[0;34m]\u001b[0m\u001b[0;34m\u001b[0m\u001b[0;34m\u001b[0m\u001b[0m\n",
            "\u001b[0;32m/usr/local/lib/python3.6/dist-packages/sklearn/model_selection/_search.py\u001b[0m in \u001b[0;36mfit\u001b[0;34m(self, X, y, groups, **fit_params)\u001b[0m\n\u001b[1;32m    708\u001b[0m                 \u001b[0;32mreturn\u001b[0m \u001b[0mresults\u001b[0m\u001b[0;34m\u001b[0m\u001b[0;34m\u001b[0m\u001b[0m\n\u001b[1;32m    709\u001b[0m \u001b[0;34m\u001b[0m\u001b[0m\n\u001b[0;32m--> 710\u001b[0;31m             \u001b[0mself\u001b[0m\u001b[0;34m.\u001b[0m\u001b[0m_run_search\u001b[0m\u001b[0;34m(\u001b[0m\u001b[0mevaluate_candidates\u001b[0m\u001b[0;34m)\u001b[0m\u001b[0;34m\u001b[0m\u001b[0;34m\u001b[0m\u001b[0m\n\u001b[0m\u001b[1;32m    711\u001b[0m \u001b[0;34m\u001b[0m\u001b[0m\n\u001b[1;32m    712\u001b[0m         \u001b[0;31m# For multi-metric evaluation, store the best_index_, best_params_ and\u001b[0m\u001b[0;34m\u001b[0m\u001b[0;34m\u001b[0m\u001b[0;34m\u001b[0m\u001b[0m\n",
            "\u001b[0;32m/usr/local/lib/python3.6/dist-packages/sklearn/model_selection/_search.py\u001b[0m in \u001b[0;36m_run_search\u001b[0;34m(self, evaluate_candidates)\u001b[0m\n\u001b[1;32m   1149\u001b[0m     \u001b[0;32mdef\u001b[0m \u001b[0m_run_search\u001b[0m\u001b[0;34m(\u001b[0m\u001b[0mself\u001b[0m\u001b[0;34m,\u001b[0m \u001b[0mevaluate_candidates\u001b[0m\u001b[0;34m)\u001b[0m\u001b[0;34m:\u001b[0m\u001b[0;34m\u001b[0m\u001b[0;34m\u001b[0m\u001b[0m\n\u001b[1;32m   1150\u001b[0m         \u001b[0;34m\"\"\"Search all candidates in param_grid\"\"\"\u001b[0m\u001b[0;34m\u001b[0m\u001b[0;34m\u001b[0m\u001b[0m\n\u001b[0;32m-> 1151\u001b[0;31m         \u001b[0mevaluate_candidates\u001b[0m\u001b[0;34m(\u001b[0m\u001b[0mParameterGrid\u001b[0m\u001b[0;34m(\u001b[0m\u001b[0mself\u001b[0m\u001b[0;34m.\u001b[0m\u001b[0mparam_grid\u001b[0m\u001b[0;34m)\u001b[0m\u001b[0;34m)\u001b[0m\u001b[0;34m\u001b[0m\u001b[0;34m\u001b[0m\u001b[0m\n\u001b[0m\u001b[1;32m   1152\u001b[0m \u001b[0;34m\u001b[0m\u001b[0m\n\u001b[1;32m   1153\u001b[0m \u001b[0;34m\u001b[0m\u001b[0m\n",
            "\u001b[0;32m/usr/local/lib/python3.6/dist-packages/sklearn/model_selection/_search.py\u001b[0m in \u001b[0;36mevaluate_candidates\u001b[0;34m(candidate_params)\u001b[0m\n\u001b[1;32m    687\u001b[0m                                \u001b[0;32mfor\u001b[0m \u001b[0mparameters\u001b[0m\u001b[0;34m,\u001b[0m \u001b[0;34m(\u001b[0m\u001b[0mtrain\u001b[0m\u001b[0;34m,\u001b[0m \u001b[0mtest\u001b[0m\u001b[0;34m)\u001b[0m\u001b[0;34m\u001b[0m\u001b[0;34m\u001b[0m\u001b[0m\n\u001b[1;32m    688\u001b[0m                                in product(candidate_params,\n\u001b[0;32m--> 689\u001b[0;31m                                           cv.split(X, y, groups)))\n\u001b[0m\u001b[1;32m    690\u001b[0m \u001b[0;34m\u001b[0m\u001b[0m\n\u001b[1;32m    691\u001b[0m                 \u001b[0;32mif\u001b[0m \u001b[0mlen\u001b[0m\u001b[0;34m(\u001b[0m\u001b[0mout\u001b[0m\u001b[0;34m)\u001b[0m \u001b[0;34m<\u001b[0m \u001b[0;36m1\u001b[0m\u001b[0;34m:\u001b[0m\u001b[0;34m\u001b[0m\u001b[0;34m\u001b[0m\u001b[0m\n",
            "\u001b[0;32m/usr/local/lib/python3.6/dist-packages/joblib/parallel.py\u001b[0m in \u001b[0;36m__call__\u001b[0;34m(self, iterable)\u001b[0m\n\u001b[1;32m   1052\u001b[0m \u001b[0;34m\u001b[0m\u001b[0m\n\u001b[1;32m   1053\u001b[0m             \u001b[0;32mwith\u001b[0m \u001b[0mself\u001b[0m\u001b[0;34m.\u001b[0m\u001b[0m_backend\u001b[0m\u001b[0;34m.\u001b[0m\u001b[0mretrieval_context\u001b[0m\u001b[0;34m(\u001b[0m\u001b[0;34m)\u001b[0m\u001b[0;34m:\u001b[0m\u001b[0;34m\u001b[0m\u001b[0;34m\u001b[0m\u001b[0m\n\u001b[0;32m-> 1054\u001b[0;31m                 \u001b[0mself\u001b[0m\u001b[0;34m.\u001b[0m\u001b[0mretrieve\u001b[0m\u001b[0;34m(\u001b[0m\u001b[0;34m)\u001b[0m\u001b[0;34m\u001b[0m\u001b[0;34m\u001b[0m\u001b[0m\n\u001b[0m\u001b[1;32m   1055\u001b[0m             \u001b[0;31m# Make sure that we get a last message telling us we are done\u001b[0m\u001b[0;34m\u001b[0m\u001b[0;34m\u001b[0m\u001b[0;34m\u001b[0m\u001b[0m\n\u001b[1;32m   1056\u001b[0m             \u001b[0melapsed_time\u001b[0m \u001b[0;34m=\u001b[0m \u001b[0mtime\u001b[0m\u001b[0;34m.\u001b[0m\u001b[0mtime\u001b[0m\u001b[0;34m(\u001b[0m\u001b[0;34m)\u001b[0m \u001b[0;34m-\u001b[0m \u001b[0mself\u001b[0m\u001b[0;34m.\u001b[0m\u001b[0m_start_time\u001b[0m\u001b[0;34m\u001b[0m\u001b[0;34m\u001b[0m\u001b[0m\n",
            "\u001b[0;32m/usr/local/lib/python3.6/dist-packages/joblib/parallel.py\u001b[0m in \u001b[0;36mretrieve\u001b[0;34m(self)\u001b[0m\n\u001b[1;32m    931\u001b[0m             \u001b[0;32mtry\u001b[0m\u001b[0;34m:\u001b[0m\u001b[0;34m\u001b[0m\u001b[0;34m\u001b[0m\u001b[0m\n\u001b[1;32m    932\u001b[0m                 \u001b[0;32mif\u001b[0m \u001b[0mgetattr\u001b[0m\u001b[0;34m(\u001b[0m\u001b[0mself\u001b[0m\u001b[0;34m.\u001b[0m\u001b[0m_backend\u001b[0m\u001b[0;34m,\u001b[0m \u001b[0;34m'supports_timeout'\u001b[0m\u001b[0;34m,\u001b[0m \u001b[0;32mFalse\u001b[0m\u001b[0;34m)\u001b[0m\u001b[0;34m:\u001b[0m\u001b[0;34m\u001b[0m\u001b[0;34m\u001b[0m\u001b[0m\n\u001b[0;32m--> 933\u001b[0;31m                     \u001b[0mself\u001b[0m\u001b[0;34m.\u001b[0m\u001b[0m_output\u001b[0m\u001b[0;34m.\u001b[0m\u001b[0mextend\u001b[0m\u001b[0;34m(\u001b[0m\u001b[0mjob\u001b[0m\u001b[0;34m.\u001b[0m\u001b[0mget\u001b[0m\u001b[0;34m(\u001b[0m\u001b[0mtimeout\u001b[0m\u001b[0;34m=\u001b[0m\u001b[0mself\u001b[0m\u001b[0;34m.\u001b[0m\u001b[0mtimeout\u001b[0m\u001b[0;34m)\u001b[0m\u001b[0;34m)\u001b[0m\u001b[0;34m\u001b[0m\u001b[0;34m\u001b[0m\u001b[0m\n\u001b[0m\u001b[1;32m    934\u001b[0m                 \u001b[0;32melse\u001b[0m\u001b[0;34m:\u001b[0m\u001b[0;34m\u001b[0m\u001b[0;34m\u001b[0m\u001b[0m\n\u001b[1;32m    935\u001b[0m                     \u001b[0mself\u001b[0m\u001b[0;34m.\u001b[0m\u001b[0m_output\u001b[0m\u001b[0;34m.\u001b[0m\u001b[0mextend\u001b[0m\u001b[0;34m(\u001b[0m\u001b[0mjob\u001b[0m\u001b[0;34m.\u001b[0m\u001b[0mget\u001b[0m\u001b[0;34m(\u001b[0m\u001b[0;34m)\u001b[0m\u001b[0;34m)\u001b[0m\u001b[0;34m\u001b[0m\u001b[0;34m\u001b[0m\u001b[0m\n",
            "\u001b[0;32m/usr/local/lib/python3.6/dist-packages/joblib/_parallel_backends.py\u001b[0m in \u001b[0;36mwrap_future_result\u001b[0;34m(future, timeout)\u001b[0m\n\u001b[1;32m    540\u001b[0m         AsyncResults.get from multiprocessing.\"\"\"\n\u001b[1;32m    541\u001b[0m         \u001b[0;32mtry\u001b[0m\u001b[0;34m:\u001b[0m\u001b[0;34m\u001b[0m\u001b[0;34m\u001b[0m\u001b[0m\n\u001b[0;32m--> 542\u001b[0;31m             \u001b[0;32mreturn\u001b[0m \u001b[0mfuture\u001b[0m\u001b[0;34m.\u001b[0m\u001b[0mresult\u001b[0m\u001b[0;34m(\u001b[0m\u001b[0mtimeout\u001b[0m\u001b[0;34m=\u001b[0m\u001b[0mtimeout\u001b[0m\u001b[0;34m)\u001b[0m\u001b[0;34m\u001b[0m\u001b[0;34m\u001b[0m\u001b[0m\n\u001b[0m\u001b[1;32m    543\u001b[0m         \u001b[0;32mexcept\u001b[0m \u001b[0mCfTimeoutError\u001b[0m \u001b[0;32mas\u001b[0m \u001b[0me\u001b[0m\u001b[0;34m:\u001b[0m\u001b[0;34m\u001b[0m\u001b[0;34m\u001b[0m\u001b[0m\n\u001b[1;32m    544\u001b[0m             \u001b[0;32mraise\u001b[0m \u001b[0mTimeoutError\u001b[0m \u001b[0;32mfrom\u001b[0m \u001b[0me\u001b[0m\u001b[0;34m\u001b[0m\u001b[0;34m\u001b[0m\u001b[0m\n",
            "\u001b[0;32m/usr/lib/python3.6/concurrent/futures/_base.py\u001b[0m in \u001b[0;36mresult\u001b[0;34m(self, timeout)\u001b[0m\n\u001b[1;32m    425\u001b[0m                 \u001b[0;32mreturn\u001b[0m \u001b[0mself\u001b[0m\u001b[0;34m.\u001b[0m\u001b[0m__get_result\u001b[0m\u001b[0;34m(\u001b[0m\u001b[0;34m)\u001b[0m\u001b[0;34m\u001b[0m\u001b[0;34m\u001b[0m\u001b[0m\n\u001b[1;32m    426\u001b[0m \u001b[0;34m\u001b[0m\u001b[0m\n\u001b[0;32m--> 427\u001b[0;31m             \u001b[0mself\u001b[0m\u001b[0;34m.\u001b[0m\u001b[0m_condition\u001b[0m\u001b[0;34m.\u001b[0m\u001b[0mwait\u001b[0m\u001b[0;34m(\u001b[0m\u001b[0mtimeout\u001b[0m\u001b[0;34m)\u001b[0m\u001b[0;34m\u001b[0m\u001b[0;34m\u001b[0m\u001b[0m\n\u001b[0m\u001b[1;32m    428\u001b[0m \u001b[0;34m\u001b[0m\u001b[0m\n\u001b[1;32m    429\u001b[0m             \u001b[0;32mif\u001b[0m \u001b[0mself\u001b[0m\u001b[0;34m.\u001b[0m\u001b[0m_state\u001b[0m \u001b[0;32min\u001b[0m \u001b[0;34m[\u001b[0m\u001b[0mCANCELLED\u001b[0m\u001b[0;34m,\u001b[0m \u001b[0mCANCELLED_AND_NOTIFIED\u001b[0m\u001b[0;34m]\u001b[0m\u001b[0;34m:\u001b[0m\u001b[0;34m\u001b[0m\u001b[0;34m\u001b[0m\u001b[0m\n",
            "\u001b[0;32m/usr/lib/python3.6/threading.py\u001b[0m in \u001b[0;36mwait\u001b[0;34m(self, timeout)\u001b[0m\n\u001b[1;32m    293\u001b[0m         \u001b[0;32mtry\u001b[0m\u001b[0;34m:\u001b[0m    \u001b[0;31m# restore state no matter what (e.g., KeyboardInterrupt)\u001b[0m\u001b[0;34m\u001b[0m\u001b[0;34m\u001b[0m\u001b[0m\n\u001b[1;32m    294\u001b[0m             \u001b[0;32mif\u001b[0m \u001b[0mtimeout\u001b[0m \u001b[0;32mis\u001b[0m \u001b[0;32mNone\u001b[0m\u001b[0;34m:\u001b[0m\u001b[0;34m\u001b[0m\u001b[0;34m\u001b[0m\u001b[0m\n\u001b[0;32m--> 295\u001b[0;31m                 \u001b[0mwaiter\u001b[0m\u001b[0;34m.\u001b[0m\u001b[0macquire\u001b[0m\u001b[0;34m(\u001b[0m\u001b[0;34m)\u001b[0m\u001b[0;34m\u001b[0m\u001b[0;34m\u001b[0m\u001b[0m\n\u001b[0m\u001b[1;32m    296\u001b[0m                 \u001b[0mgotit\u001b[0m \u001b[0;34m=\u001b[0m \u001b[0;32mTrue\u001b[0m\u001b[0;34m\u001b[0m\u001b[0;34m\u001b[0m\u001b[0m\n\u001b[1;32m    297\u001b[0m             \u001b[0;32melse\u001b[0m\u001b[0;34m:\u001b[0m\u001b[0;34m\u001b[0m\u001b[0;34m\u001b[0m\u001b[0m\n",
            "\u001b[0;31mKeyboardInterrupt\u001b[0m: "
          ]
        }
      ]
    }
  ]
}