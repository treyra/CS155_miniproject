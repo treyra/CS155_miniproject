{
  "nbformat": 4,
  "nbformat_minor": 0,
  "metadata": {
    "anaconda-cloud": {},
    "kernelspec": {
      "display_name": "Python 3",
      "language": "python",
      "name": "python3"
    },
    "language_info": {
      "codemirror_mode": {
        "name": "ipython",
        "version": 3
      },
      "file_extension": ".py",
      "mimetype": "text/x-python",
      "name": "python",
      "nbconvert_exporter": "python",
      "pygments_lexer": "ipython3",
      "version": "3.6.3"
    },
    "colab": {
      "name": "Data Imputation",
      "provenance": [],
      "include_colab_link": true
    }
  },
  "cells": [
    {
      "cell_type": "markdown",
      "metadata": {
        "id": "view-in-github",
        "colab_type": "text"
      },
      "source": [
        "<a href=\"https://colab.research.google.com/github/treyra/CS155_miniproject/blob/data_visualization_v1/Data_Imputation.ipynb\" target=\"_parent\"><img src=\"https://colab.research.google.com/assets/colab-badge.svg\" alt=\"Open In Colab\"/></a>"
      ]
    },
    {
      "cell_type": "markdown",
      "metadata": {
        "id": "WF1crkj-DTKO"
      },
      "source": [
        "# Notebook for data imputation - in progress\n",
        "\n"
      ]
    },
    {
      "cell_type": "markdown",
      "metadata": {
        "id": "XNkW8PGKDTKW"
      },
      "source": [
        "Import statements"
      ]
    },
    {
      "cell_type": "code",
      "metadata": {
        "collapsed": true,
        "id": "yXh6KLlUDTKX"
      },
      "source": [
        "import matplotlib.pyplot as plt\n",
        "import numpy as np\n",
        "import pandas as pd"
      ],
      "execution_count": 1,
      "outputs": []
    },
    {
      "cell_type": "code",
      "metadata": {
        "id": "z59PzLJWviUl",
        "colab": {
          "base_uri": "https://localhost:8080/",
          "height": 204
        },
        "outputId": "7fb0f0da-553f-4243-b016-f424c0883256"
      },
      "source": [
        "df = pd.read_csv('https://raw.githubusercontent.com/treyra/CS155_miniproject/master/WILDFIRES_TRAIN.csv',sep=',', header=0)\n",
        "df.head()"
      ],
      "execution_count": 2,
      "outputs": [
        {
          "output_type": "execute_result",
          "data": {
            "text/html": [
              "<div>\n",
              "<style scoped>\n",
              "    .dataframe tbody tr th:only-of-type {\n",
              "        vertical-align: middle;\n",
              "    }\n",
              "\n",
              "    .dataframe tbody tr th {\n",
              "        vertical-align: top;\n",
              "    }\n",
              "\n",
              "    .dataframe thead th {\n",
              "        text-align: right;\n",
              "    }\n",
              "</style>\n",
              "<table border=\"1\" class=\"dataframe\">\n",
              "  <thead>\n",
              "    <tr style=\"text-align: right;\">\n",
              "      <th></th>\n",
              "      <th>id</th>\n",
              "      <th>LATITUDE</th>\n",
              "      <th>LONGITUDE</th>\n",
              "      <th>STATE</th>\n",
              "      <th>DISCOVERY_TIME</th>\n",
              "      <th>FIRE_SIZE</th>\n",
              "      <th>FIPS_NAME</th>\n",
              "      <th>FIPS_CODE</th>\n",
              "      <th>SOURCE_REPORTING_UNIT_NAME</th>\n",
              "      <th>DATE</th>\n",
              "      <th>LABEL</th>\n",
              "    </tr>\n",
              "  </thead>\n",
              "  <tbody>\n",
              "    <tr>\n",
              "      <th>0</th>\n",
              "      <td>0</td>\n",
              "      <td>38.205000</td>\n",
              "      <td>-120.335000</td>\n",
              "      <td>CA</td>\n",
              "      <td>130.0</td>\n",
              "      <td>0.10</td>\n",
              "      <td>NaN</td>\n",
              "      <td>NaN</td>\n",
              "      <td>Stanislaus National Forest</td>\n",
              "      <td>1992-01-01</td>\n",
              "      <td>1</td>\n",
              "    </tr>\n",
              "    <tr>\n",
              "      <th>1</th>\n",
              "      <td>1</td>\n",
              "      <td>33.813100</td>\n",
              "      <td>-85.104300</td>\n",
              "      <td>GA</td>\n",
              "      <td>1115.0</td>\n",
              "      <td>1.17</td>\n",
              "      <td>Haralson</td>\n",
              "      <td>143.0</td>\n",
              "      <td>Georgia Forestry Commission</td>\n",
              "      <td>1992-01-01</td>\n",
              "      <td>4</td>\n",
              "    </tr>\n",
              "    <tr>\n",
              "      <th>2</th>\n",
              "      <td>2</td>\n",
              "      <td>32.201000</td>\n",
              "      <td>-82.498700</td>\n",
              "      <td>GA</td>\n",
              "      <td>1600.0</td>\n",
              "      <td>0.07</td>\n",
              "      <td>Montgomery</td>\n",
              "      <td>209.0</td>\n",
              "      <td>Georgia Forestry Commission</td>\n",
              "      <td>1992-01-01</td>\n",
              "      <td>2</td>\n",
              "    </tr>\n",
              "    <tr>\n",
              "      <th>3</th>\n",
              "      <td>3</td>\n",
              "      <td>32.509300</td>\n",
              "      <td>-81.708600</td>\n",
              "      <td>GA</td>\n",
              "      <td>1215.0</td>\n",
              "      <td>4.40</td>\n",
              "      <td>Bulloch</td>\n",
              "      <td>31.0</td>\n",
              "      <td>Georgia Forestry Commission</td>\n",
              "      <td>1992-01-01</td>\n",
              "      <td>4</td>\n",
              "    </tr>\n",
              "    <tr>\n",
              "      <th>4</th>\n",
              "      <td>4</td>\n",
              "      <td>33.663889</td>\n",
              "      <td>-116.171944</td>\n",
              "      <td>CA</td>\n",
              "      <td>NaN</td>\n",
              "      <td>0.20</td>\n",
              "      <td>NaN</td>\n",
              "      <td>NaN</td>\n",
              "      <td>CDF - Riverside Unit</td>\n",
              "      <td>1992-01-01</td>\n",
              "      <td>2</td>\n",
              "    </tr>\n",
              "  </tbody>\n",
              "</table>\n",
              "</div>"
            ],
            "text/plain": [
              "   id   LATITUDE   LONGITUDE  ...   SOURCE_REPORTING_UNIT_NAME        DATE  LABEL\n",
              "0   0  38.205000 -120.335000  ...   Stanislaus National Forest  1992-01-01      1\n",
              "1   1  33.813100  -85.104300  ...  Georgia Forestry Commission  1992-01-01      4\n",
              "2   2  32.201000  -82.498700  ...  Georgia Forestry Commission  1992-01-01      2\n",
              "3   3  32.509300  -81.708600  ...  Georgia Forestry Commission  1992-01-01      4\n",
              "4   4  33.663889 -116.171944  ...         CDF - Riverside Unit  1992-01-01      2\n",
              "\n",
              "[5 rows x 11 columns]"
            ]
          },
          "metadata": {
            "tags": []
          },
          "execution_count": 2
        }
      ]
    },
    {
      "cell_type": "code",
      "metadata": {
        "colab": {
          "base_uri": "https://localhost:8080/",
          "height": 204
        },
        "id": "umnkcug9nXjR",
        "outputId": "95a336f9-c8f6-4e58-a5d9-c568cb2c9600"
      },
      "source": [
        "# convert State from strings to numbers\n",
        "df['STATE'] = df['STATE'].replace(['CA'],'1')\n",
        "df['STATE'] = df['STATE'].replace(['GA'],'2')\n",
        "df.head()"
      ],
      "execution_count": 5,
      "outputs": [
        {
          "output_type": "execute_result",
          "data": {
            "text/html": [
              "<div>\n",
              "<style scoped>\n",
              "    .dataframe tbody tr th:only-of-type {\n",
              "        vertical-align: middle;\n",
              "    }\n",
              "\n",
              "    .dataframe tbody tr th {\n",
              "        vertical-align: top;\n",
              "    }\n",
              "\n",
              "    .dataframe thead th {\n",
              "        text-align: right;\n",
              "    }\n",
              "</style>\n",
              "<table border=\"1\" class=\"dataframe\">\n",
              "  <thead>\n",
              "    <tr style=\"text-align: right;\">\n",
              "      <th></th>\n",
              "      <th>id</th>\n",
              "      <th>LATITUDE</th>\n",
              "      <th>LONGITUDE</th>\n",
              "      <th>STATE</th>\n",
              "      <th>DISCOVERY_TIME</th>\n",
              "      <th>FIRE_SIZE</th>\n",
              "      <th>FIPS_NAME</th>\n",
              "      <th>FIPS_CODE</th>\n",
              "      <th>SOURCE_REPORTING_UNIT_NAME</th>\n",
              "      <th>DATE</th>\n",
              "      <th>LABEL</th>\n",
              "    </tr>\n",
              "  </thead>\n",
              "  <tbody>\n",
              "    <tr>\n",
              "      <th>0</th>\n",
              "      <td>0</td>\n",
              "      <td>38.205000</td>\n",
              "      <td>-120.335000</td>\n",
              "      <td>1</td>\n",
              "      <td>130.0</td>\n",
              "      <td>0.10</td>\n",
              "      <td>NaN</td>\n",
              "      <td>NaN</td>\n",
              "      <td>Stanislaus National Forest</td>\n",
              "      <td>1992-01-01</td>\n",
              "      <td>1</td>\n",
              "    </tr>\n",
              "    <tr>\n",
              "      <th>1</th>\n",
              "      <td>1</td>\n",
              "      <td>33.813100</td>\n",
              "      <td>-85.104300</td>\n",
              "      <td>2</td>\n",
              "      <td>1115.0</td>\n",
              "      <td>1.17</td>\n",
              "      <td>Haralson</td>\n",
              "      <td>143.0</td>\n",
              "      <td>Georgia Forestry Commission</td>\n",
              "      <td>1992-01-01</td>\n",
              "      <td>4</td>\n",
              "    </tr>\n",
              "    <tr>\n",
              "      <th>2</th>\n",
              "      <td>2</td>\n",
              "      <td>32.201000</td>\n",
              "      <td>-82.498700</td>\n",
              "      <td>2</td>\n",
              "      <td>1600.0</td>\n",
              "      <td>0.07</td>\n",
              "      <td>Montgomery</td>\n",
              "      <td>209.0</td>\n",
              "      <td>Georgia Forestry Commission</td>\n",
              "      <td>1992-01-01</td>\n",
              "      <td>2</td>\n",
              "    </tr>\n",
              "    <tr>\n",
              "      <th>3</th>\n",
              "      <td>3</td>\n",
              "      <td>32.509300</td>\n",
              "      <td>-81.708600</td>\n",
              "      <td>2</td>\n",
              "      <td>1215.0</td>\n",
              "      <td>4.40</td>\n",
              "      <td>Bulloch</td>\n",
              "      <td>31.0</td>\n",
              "      <td>Georgia Forestry Commission</td>\n",
              "      <td>1992-01-01</td>\n",
              "      <td>4</td>\n",
              "    </tr>\n",
              "    <tr>\n",
              "      <th>4</th>\n",
              "      <td>4</td>\n",
              "      <td>33.663889</td>\n",
              "      <td>-116.171944</td>\n",
              "      <td>1</td>\n",
              "      <td>NaN</td>\n",
              "      <td>0.20</td>\n",
              "      <td>NaN</td>\n",
              "      <td>NaN</td>\n",
              "      <td>CDF - Riverside Unit</td>\n",
              "      <td>1992-01-01</td>\n",
              "      <td>2</td>\n",
              "    </tr>\n",
              "  </tbody>\n",
              "</table>\n",
              "</div>"
            ],
            "text/plain": [
              "   id   LATITUDE   LONGITUDE  ...   SOURCE_REPORTING_UNIT_NAME        DATE  LABEL\n",
              "0   0  38.205000 -120.335000  ...   Stanislaus National Forest  1992-01-01      1\n",
              "1   1  33.813100  -85.104300  ...  Georgia Forestry Commission  1992-01-01      4\n",
              "2   2  32.201000  -82.498700  ...  Georgia Forestry Commission  1992-01-01      2\n",
              "3   3  32.509300  -81.708600  ...  Georgia Forestry Commission  1992-01-01      4\n",
              "4   4  33.663889 -116.171944  ...         CDF - Riverside Unit  1992-01-01      2\n",
              "\n",
              "[5 rows x 11 columns]"
            ]
          },
          "metadata": {
            "tags": []
          },
          "execution_count": 5
        }
      ]
    },
    {
      "cell_type": "code",
      "metadata": {
        "colab": {
          "base_uri": "https://localhost:8080/"
        },
        "id": "m7H0DlBEravb",
        "outputId": "3ffe108c-7a52-4ad8-b419-43f242560dd3"
      },
      "source": [
        "df.STATE.unique()"
      ],
      "execution_count": 13,
      "outputs": [
        {
          "output_type": "execute_result",
          "data": {
            "text/plain": [
              "array(['1', '2'], dtype=object)"
            ]
          },
          "metadata": {
            "tags": []
          },
          "execution_count": 13
        }
      ]
    },
    {
      "cell_type": "code",
      "metadata": {
        "colab": {
          "base_uri": "https://localhost:8080/"
        },
        "id": "p2zdLYC_reSf",
        "outputId": "8f7ee84f-7e97-4afd-a2a8-35e0c4abe0d9"
      },
      "source": [
        "len(df.FIPS_NAME.unique())"
      ],
      "execution_count": 19,
      "outputs": [
        {
          "output_type": "execute_result",
          "data": {
            "text/plain": [
              "216"
            ]
          },
          "metadata": {
            "tags": []
          },
          "execution_count": 19
        }
      ]
    },
    {
      "cell_type": "code",
      "metadata": {
        "colab": {
          "base_uri": "https://localhost:8080/"
        },
        "id": "l5z6ay_2rjam",
        "outputId": "597062a7-f6df-4cbc-ec4a-71fafa9d6940"
      },
      "source": [
        "df.FIPS_CODE.unique()\n",
        "len(df.FIPS_CODE.unique())"
      ],
      "execution_count": 20,
      "outputs": [
        {
          "output_type": "execute_result",
          "data": {
            "text/plain": [
              "162"
            ]
          },
          "metadata": {
            "tags": []
          },
          "execution_count": 20
        }
      ]
    },
    {
      "cell_type": "code",
      "metadata": {
        "id": "aSUZ2thfvE42"
      },
      "source": [
        "# transform FIPS_NAME in integer\n",
        "for i,fipsname in enumerate(df.FIPS_NAME.unique()):\n",
        "  df['FIPS_NAME'] = df['FIPS_NAME'].replace([str(fipsname)],[i])"
      ],
      "execution_count": 28,
      "outputs": []
    },
    {
      "cell_type": "code",
      "metadata": {
        "id": "BRbRUlFzwFHA"
      },
      "source": [
        "# transform SOURCE_REPORTING_UNIT_NAME in integer\n",
        "for i,unitname in enumerate(df.SOURCE_REPORTING_UNIT_NAME.unique()):\n",
        "  df['SOURCE_REPORTING_UNIT_NAME'] = df['SOURCE_REPORTING_UNIT_NAME'].replace([str(unitname)],[i])"
      ],
      "execution_count": 32,
      "outputs": []
    },
    {
      "cell_type": "code",
      "metadata": {
        "colab": {
          "base_uri": "https://localhost:8080/",
          "height": 204
        },
        "id": "AZf1gpyWvoov",
        "outputId": "79076cc3-ff54-4e21-ee40-82e75dca3bd7"
      },
      "source": [
        "df.head()"
      ],
      "execution_count": 33,
      "outputs": [
        {
          "output_type": "execute_result",
          "data": {
            "text/html": [
              "<div>\n",
              "<style scoped>\n",
              "    .dataframe tbody tr th:only-of-type {\n",
              "        vertical-align: middle;\n",
              "    }\n",
              "\n",
              "    .dataframe tbody tr th {\n",
              "        vertical-align: top;\n",
              "    }\n",
              "\n",
              "    .dataframe thead th {\n",
              "        text-align: right;\n",
              "    }\n",
              "</style>\n",
              "<table border=\"1\" class=\"dataframe\">\n",
              "  <thead>\n",
              "    <tr style=\"text-align: right;\">\n",
              "      <th></th>\n",
              "      <th>id</th>\n",
              "      <th>LATITUDE</th>\n",
              "      <th>LONGITUDE</th>\n",
              "      <th>STATE</th>\n",
              "      <th>DISCOVERY_TIME</th>\n",
              "      <th>FIRE_SIZE</th>\n",
              "      <th>FIPS_NAME</th>\n",
              "      <th>FIPS_CODE</th>\n",
              "      <th>SOURCE_REPORTING_UNIT_NAME</th>\n",
              "      <th>DATE</th>\n",
              "      <th>LABEL</th>\n",
              "    </tr>\n",
              "  </thead>\n",
              "  <tbody>\n",
              "    <tr>\n",
              "      <th>0</th>\n",
              "      <td>0</td>\n",
              "      <td>38.205000</td>\n",
              "      <td>-120.335000</td>\n",
              "      <td>1</td>\n",
              "      <td>130.0</td>\n",
              "      <td>0.10</td>\n",
              "      <td>NaN</td>\n",
              "      <td>NaN</td>\n",
              "      <td>0</td>\n",
              "      <td>1992-01-01</td>\n",
              "      <td>1</td>\n",
              "    </tr>\n",
              "    <tr>\n",
              "      <th>1</th>\n",
              "      <td>1</td>\n",
              "      <td>33.813100</td>\n",
              "      <td>-85.104300</td>\n",
              "      <td>2</td>\n",
              "      <td>1115.0</td>\n",
              "      <td>1.17</td>\n",
              "      <td>1.0</td>\n",
              "      <td>143.0</td>\n",
              "      <td>1</td>\n",
              "      <td>1992-01-01</td>\n",
              "      <td>4</td>\n",
              "    </tr>\n",
              "    <tr>\n",
              "      <th>2</th>\n",
              "      <td>2</td>\n",
              "      <td>32.201000</td>\n",
              "      <td>-82.498700</td>\n",
              "      <td>2</td>\n",
              "      <td>1600.0</td>\n",
              "      <td>0.07</td>\n",
              "      <td>2.0</td>\n",
              "      <td>209.0</td>\n",
              "      <td>1</td>\n",
              "      <td>1992-01-01</td>\n",
              "      <td>2</td>\n",
              "    </tr>\n",
              "    <tr>\n",
              "      <th>3</th>\n",
              "      <td>3</td>\n",
              "      <td>32.509300</td>\n",
              "      <td>-81.708600</td>\n",
              "      <td>2</td>\n",
              "      <td>1215.0</td>\n",
              "      <td>4.40</td>\n",
              "      <td>3.0</td>\n",
              "      <td>31.0</td>\n",
              "      <td>1</td>\n",
              "      <td>1992-01-01</td>\n",
              "      <td>4</td>\n",
              "    </tr>\n",
              "    <tr>\n",
              "      <th>4</th>\n",
              "      <td>4</td>\n",
              "      <td>33.663889</td>\n",
              "      <td>-116.171944</td>\n",
              "      <td>1</td>\n",
              "      <td>NaN</td>\n",
              "      <td>0.20</td>\n",
              "      <td>NaN</td>\n",
              "      <td>NaN</td>\n",
              "      <td>2</td>\n",
              "      <td>1992-01-01</td>\n",
              "      <td>2</td>\n",
              "    </tr>\n",
              "  </tbody>\n",
              "</table>\n",
              "</div>"
            ],
            "text/plain": [
              "   id   LATITUDE   LONGITUDE  ... SOURCE_REPORTING_UNIT_NAME        DATE  LABEL\n",
              "0   0  38.205000 -120.335000  ...                          0  1992-01-01      1\n",
              "1   1  33.813100  -85.104300  ...                          1  1992-01-01      4\n",
              "2   2  32.201000  -82.498700  ...                          1  1992-01-01      2\n",
              "3   3  32.509300  -81.708600  ...                          1  1992-01-01      4\n",
              "4   4  33.663889 -116.171944  ...                          2  1992-01-01      2\n",
              "\n",
              "[5 rows x 11 columns]"
            ]
          },
          "metadata": {
            "tags": []
          },
          "execution_count": 33
        }
      ]
    },
    {
      "cell_type": "code",
      "metadata": {
        "colab": {
          "base_uri": "https://localhost:8080/",
          "height": 419
        },
        "id": "6le9D5y-xDfu",
        "outputId": "aea1ded1-3c43-4cc6-8782-9110f90c7085"
      },
      "source": [
        "# set all missing values to np.nan for simple imputer to work (just to make sure)\n",
        "df.fillna(np.nan)"
      ],
      "execution_count": 38,
      "outputs": [
        {
          "output_type": "execute_result",
          "data": {
            "text/html": [
              "<div>\n",
              "<style scoped>\n",
              "    .dataframe tbody tr th:only-of-type {\n",
              "        vertical-align: middle;\n",
              "    }\n",
              "\n",
              "    .dataframe tbody tr th {\n",
              "        vertical-align: top;\n",
              "    }\n",
              "\n",
              "    .dataframe thead th {\n",
              "        text-align: right;\n",
              "    }\n",
              "</style>\n",
              "<table border=\"1\" class=\"dataframe\">\n",
              "  <thead>\n",
              "    <tr style=\"text-align: right;\">\n",
              "      <th></th>\n",
              "      <th>id</th>\n",
              "      <th>LATITUDE</th>\n",
              "      <th>LONGITUDE</th>\n",
              "      <th>STATE</th>\n",
              "      <th>DISCOVERY_TIME</th>\n",
              "      <th>FIRE_SIZE</th>\n",
              "      <th>FIPS_NAME</th>\n",
              "      <th>FIPS_CODE</th>\n",
              "      <th>SOURCE_REPORTING_UNIT_NAME</th>\n",
              "      <th>DATE</th>\n",
              "      <th>LABEL</th>\n",
              "    </tr>\n",
              "  </thead>\n",
              "  <tbody>\n",
              "    <tr>\n",
              "      <th>0</th>\n",
              "      <td>0</td>\n",
              "      <td>38.205000</td>\n",
              "      <td>-120.335000</td>\n",
              "      <td>1</td>\n",
              "      <td>130.0</td>\n",
              "      <td>0.10</td>\n",
              "      <td>NaN</td>\n",
              "      <td>NaN</td>\n",
              "      <td>0</td>\n",
              "      <td>1992-01-01</td>\n",
              "      <td>1</td>\n",
              "    </tr>\n",
              "    <tr>\n",
              "      <th>1</th>\n",
              "      <td>1</td>\n",
              "      <td>33.813100</td>\n",
              "      <td>-85.104300</td>\n",
              "      <td>2</td>\n",
              "      <td>1115.0</td>\n",
              "      <td>1.17</td>\n",
              "      <td>1.0</td>\n",
              "      <td>143.0</td>\n",
              "      <td>1</td>\n",
              "      <td>1992-01-01</td>\n",
              "      <td>4</td>\n",
              "    </tr>\n",
              "    <tr>\n",
              "      <th>2</th>\n",
              "      <td>2</td>\n",
              "      <td>32.201000</td>\n",
              "      <td>-82.498700</td>\n",
              "      <td>2</td>\n",
              "      <td>1600.0</td>\n",
              "      <td>0.07</td>\n",
              "      <td>2.0</td>\n",
              "      <td>209.0</td>\n",
              "      <td>1</td>\n",
              "      <td>1992-01-01</td>\n",
              "      <td>2</td>\n",
              "    </tr>\n",
              "    <tr>\n",
              "      <th>3</th>\n",
              "      <td>3</td>\n",
              "      <td>32.509300</td>\n",
              "      <td>-81.708600</td>\n",
              "      <td>2</td>\n",
              "      <td>1215.0</td>\n",
              "      <td>4.40</td>\n",
              "      <td>3.0</td>\n",
              "      <td>31.0</td>\n",
              "      <td>1</td>\n",
              "      <td>1992-01-01</td>\n",
              "      <td>4</td>\n",
              "    </tr>\n",
              "    <tr>\n",
              "      <th>4</th>\n",
              "      <td>4</td>\n",
              "      <td>33.663889</td>\n",
              "      <td>-116.171944</td>\n",
              "      <td>1</td>\n",
              "      <td>NaN</td>\n",
              "      <td>0.20</td>\n",
              "      <td>NaN</td>\n",
              "      <td>NaN</td>\n",
              "      <td>2</td>\n",
              "      <td>1992-01-01</td>\n",
              "      <td>2</td>\n",
              "    </tr>\n",
              "    <tr>\n",
              "      <th>...</th>\n",
              "      <td>...</td>\n",
              "      <td>...</td>\n",
              "      <td>...</td>\n",
              "      <td>...</td>\n",
              "      <td>...</td>\n",
              "      <td>...</td>\n",
              "      <td>...</td>\n",
              "      <td>...</td>\n",
              "      <td>...</td>\n",
              "      <td>...</td>\n",
              "      <td>...</td>\n",
              "    </tr>\n",
              "    <tr>\n",
              "      <th>285377</th>\n",
              "      <td>285377</td>\n",
              "      <td>32.359105</td>\n",
              "      <td>-82.893909</td>\n",
              "      <td>2</td>\n",
              "      <td>NaN</td>\n",
              "      <td>0.25</td>\n",
              "      <td>11.0</td>\n",
              "      <td>175.0</td>\n",
              "      <td>140</td>\n",
              "      <td>2009-12-30</td>\n",
              "      <td>4</td>\n",
              "    </tr>\n",
              "    <tr>\n",
              "      <th>285378</th>\n",
              "      <td>285378</td>\n",
              "      <td>38.346342</td>\n",
              "      <td>-120.855472</td>\n",
              "      <td>1</td>\n",
              "      <td>1031.0</td>\n",
              "      <td>0.10</td>\n",
              "      <td>NaN</td>\n",
              "      <td>NaN</td>\n",
              "      <td>32</td>\n",
              "      <td>2009-12-30</td>\n",
              "      <td>2</td>\n",
              "    </tr>\n",
              "    <tr>\n",
              "      <th>285379</th>\n",
              "      <td>285379</td>\n",
              "      <td>32.780596</td>\n",
              "      <td>-82.742433</td>\n",
              "      <td>2</td>\n",
              "      <td>NaN</td>\n",
              "      <td>0.01</td>\n",
              "      <td>103.0</td>\n",
              "      <td>167.0</td>\n",
              "      <td>144</td>\n",
              "      <td>2009-12-30</td>\n",
              "      <td>2</td>\n",
              "    </tr>\n",
              "    <tr>\n",
              "      <th>285380</th>\n",
              "      <td>285380</td>\n",
              "      <td>33.985000</td>\n",
              "      <td>-116.915000</td>\n",
              "      <td>1</td>\n",
              "      <td>NaN</td>\n",
              "      <td>0.30</td>\n",
              "      <td>NaN</td>\n",
              "      <td>NaN</td>\n",
              "      <td>2</td>\n",
              "      <td>2009-12-30</td>\n",
              "      <td>2</td>\n",
              "    </tr>\n",
              "    <tr>\n",
              "      <th>285381</th>\n",
              "      <td>285381</td>\n",
              "      <td>33.470031</td>\n",
              "      <td>-116.953468</td>\n",
              "      <td>1</td>\n",
              "      <td>1440.0</td>\n",
              "      <td>1.00</td>\n",
              "      <td>NaN</td>\n",
              "      <td>NaN</td>\n",
              "      <td>2</td>\n",
              "      <td>2009-12-31</td>\n",
              "      <td>2</td>\n",
              "    </tr>\n",
              "  </tbody>\n",
              "</table>\n",
              "<p>285382 rows × 11 columns</p>\n",
              "</div>"
            ],
            "text/plain": [
              "            id   LATITUDE  ...        DATE LABEL\n",
              "0            0  38.205000  ...  1992-01-01     1\n",
              "1            1  33.813100  ...  1992-01-01     4\n",
              "2            2  32.201000  ...  1992-01-01     2\n",
              "3            3  32.509300  ...  1992-01-01     4\n",
              "4            4  33.663889  ...  1992-01-01     2\n",
              "...        ...        ...  ...         ...   ...\n",
              "285377  285377  32.359105  ...  2009-12-30     4\n",
              "285378  285378  38.346342  ...  2009-12-30     2\n",
              "285379  285379  32.780596  ...  2009-12-30     2\n",
              "285380  285380  33.985000  ...  2009-12-30     2\n",
              "285381  285381  33.470031  ...  2009-12-31     2\n",
              "\n",
              "[285382 rows x 11 columns]"
            ]
          },
          "metadata": {
            "tags": []
          },
          "execution_count": 38
        }
      ]
    },
    {
      "cell_type": "code",
      "metadata": {
        "colab": {
          "base_uri": "https://localhost:8080/",
          "height": 204
        },
        "id": "wDSBXdiKoWOK",
        "outputId": "d074a9db-0013-4986-d8b0-9e640ce1d407"
      },
      "source": [
        "# replacing missing values with most frequent\n",
        "# probably not the best idea, should instead learn the fips name and code from lat+lon\n",
        "# no idea about discovery time\n",
        "from sklearn.impute import SimpleImputer\n",
        "imp = SimpleImputer(missing_values= np.nan, strategy='most_frequent')\n",
        "imp.fit(df)\n",
        "imp.transform(df)\n",
        "T=imp.transform(df)\n",
        "# make pandas frame again from imputed data\n",
        "df2 = pd.DataFrame({'id': T[:, 0], 'LATITUDE': T[:, 1], 'LONGITUDE': T[:, 2], 'STATE': T[:, 3], 'DISCOVERY_TIME': T[:, 4], 'FIRE_SIZE': T[:, 5], 'FIPS_NAME': T[:, 6], 'FIPS_CODE': T[:, 7], 'SOURCE_REPORTING_UNIT_NAME': T[:, 8], 'DATE': T[:, 9], 'LABEL': T[:, 10]})\n",
        "df2.head()"
      ],
      "execution_count": 48,
      "outputs": [
        {
          "output_type": "execute_result",
          "data": {
            "text/html": [
              "<div>\n",
              "<style scoped>\n",
              "    .dataframe tbody tr th:only-of-type {\n",
              "        vertical-align: middle;\n",
              "    }\n",
              "\n",
              "    .dataframe tbody tr th {\n",
              "        vertical-align: top;\n",
              "    }\n",
              "\n",
              "    .dataframe thead th {\n",
              "        text-align: right;\n",
              "    }\n",
              "</style>\n",
              "<table border=\"1\" class=\"dataframe\">\n",
              "  <thead>\n",
              "    <tr style=\"text-align: right;\">\n",
              "      <th></th>\n",
              "      <th>id</th>\n",
              "      <th>LATITUDE</th>\n",
              "      <th>LONGITUDE</th>\n",
              "      <th>STATE</th>\n",
              "      <th>DISCOVERY_TIME</th>\n",
              "      <th>FIRE_SIZE</th>\n",
              "      <th>FIPS_NAME</th>\n",
              "      <th>FIPS_CODE</th>\n",
              "      <th>SOURCE_REPORTING_UNIT_NAME</th>\n",
              "      <th>DATE</th>\n",
              "      <th>LABEL</th>\n",
              "    </tr>\n",
              "  </thead>\n",
              "  <tbody>\n",
              "    <tr>\n",
              "      <th>0</th>\n",
              "      <td>0</td>\n",
              "      <td>38.205</td>\n",
              "      <td>-120.335</td>\n",
              "      <td>1</td>\n",
              "      <td>130</td>\n",
              "      <td>0.1</td>\n",
              "      <td>168</td>\n",
              "      <td>65</td>\n",
              "      <td>0</td>\n",
              "      <td>1992-01-01</td>\n",
              "      <td>1</td>\n",
              "    </tr>\n",
              "    <tr>\n",
              "      <th>1</th>\n",
              "      <td>1</td>\n",
              "      <td>33.8131</td>\n",
              "      <td>-85.1043</td>\n",
              "      <td>2</td>\n",
              "      <td>1115</td>\n",
              "      <td>1.17</td>\n",
              "      <td>1</td>\n",
              "      <td>143</td>\n",
              "      <td>1</td>\n",
              "      <td>1992-01-01</td>\n",
              "      <td>4</td>\n",
              "    </tr>\n",
              "    <tr>\n",
              "      <th>2</th>\n",
              "      <td>2</td>\n",
              "      <td>32.201</td>\n",
              "      <td>-82.4987</td>\n",
              "      <td>2</td>\n",
              "      <td>1600</td>\n",
              "      <td>0.07</td>\n",
              "      <td>2</td>\n",
              "      <td>209</td>\n",
              "      <td>1</td>\n",
              "      <td>1992-01-01</td>\n",
              "      <td>2</td>\n",
              "    </tr>\n",
              "    <tr>\n",
              "      <th>3</th>\n",
              "      <td>3</td>\n",
              "      <td>32.5093</td>\n",
              "      <td>-81.7086</td>\n",
              "      <td>2</td>\n",
              "      <td>1215</td>\n",
              "      <td>4.4</td>\n",
              "      <td>3</td>\n",
              "      <td>31</td>\n",
              "      <td>1</td>\n",
              "      <td>1992-01-01</td>\n",
              "      <td>4</td>\n",
              "    </tr>\n",
              "    <tr>\n",
              "      <th>4</th>\n",
              "      <td>4</td>\n",
              "      <td>33.6639</td>\n",
              "      <td>-116.172</td>\n",
              "      <td>1</td>\n",
              "      <td>1400</td>\n",
              "      <td>0.2</td>\n",
              "      <td>168</td>\n",
              "      <td>65</td>\n",
              "      <td>2</td>\n",
              "      <td>1992-01-01</td>\n",
              "      <td>2</td>\n",
              "    </tr>\n",
              "  </tbody>\n",
              "</table>\n",
              "</div>"
            ],
            "text/plain": [
              "  id LATITUDE LONGITUDE  ... SOURCE_REPORTING_UNIT_NAME        DATE LABEL\n",
              "0  0   38.205  -120.335  ...                          0  1992-01-01     1\n",
              "1  1  33.8131  -85.1043  ...                          1  1992-01-01     4\n",
              "2  2   32.201  -82.4987  ...                          1  1992-01-01     2\n",
              "3  3  32.5093  -81.7086  ...                          1  1992-01-01     4\n",
              "4  4  33.6639  -116.172  ...                          2  1992-01-01     2\n",
              "\n",
              "[5 rows x 11 columns]"
            ]
          },
          "metadata": {
            "tags": []
          },
          "execution_count": 48
        }
      ]
    },
    {
      "cell_type": "code",
      "metadata": {
        "colab": {
          "base_uri": "https://localhost:8080/",
          "height": 358
        },
        "id": "yBmAW_GuqabH",
        "outputId": "e8e7e0d4-2368-4898-9f95-b84fbfef0481"
      },
      "source": [
        "# maybe use K-Nearest Neighbor to impute data\n",
        "from scipy.spatial import KDTree\n",
        "kdtree = KDTree(df, leafsize=10)\n",
        "# to be continued"
      ],
      "execution_count": 47,
      "outputs": [
        {
          "output_type": "error",
          "ename": "TypeError",
          "evalue": "ignored",
          "traceback": [
            "\u001b[0;31m---------------------------------------------------------------------------\u001b[0m",
            "\u001b[0;31mTypeError\u001b[0m                                 Traceback (most recent call last)",
            "\u001b[0;32m<ipython-input-47-5a0fe1be7214>\u001b[0m in \u001b[0;36m<module>\u001b[0;34m()\u001b[0m\n\u001b[1;32m      1\u001b[0m \u001b[0;31m# maybe use K-Nearest Neighbor\u001b[0m\u001b[0;34m\u001b[0m\u001b[0;34m\u001b[0m\u001b[0;34m\u001b[0m\u001b[0m\n\u001b[1;32m      2\u001b[0m \u001b[0;32mfrom\u001b[0m \u001b[0mscipy\u001b[0m\u001b[0;34m.\u001b[0m\u001b[0mspatial\u001b[0m \u001b[0;32mimport\u001b[0m \u001b[0mKDTree\u001b[0m\u001b[0;34m\u001b[0m\u001b[0;34m\u001b[0m\u001b[0m\n\u001b[0;32m----> 3\u001b[0;31m \u001b[0mkdtree\u001b[0m \u001b[0;34m=\u001b[0m \u001b[0mKDTree\u001b[0m\u001b[0;34m(\u001b[0m\u001b[0mdf2\u001b[0m\u001b[0;34m,\u001b[0m \u001b[0mleafsize\u001b[0m\u001b[0;34m=\u001b[0m\u001b[0;36m10\u001b[0m\u001b[0;34m)\u001b[0m\u001b[0;34m\u001b[0m\u001b[0;34m\u001b[0m\u001b[0m\n\u001b[0m\u001b[1;32m      4\u001b[0m \u001b[0;31m# to be continued\u001b[0m\u001b[0;34m\u001b[0m\u001b[0;34m\u001b[0m\u001b[0;34m\u001b[0m\u001b[0m\n",
            "\u001b[0;32m/usr/local/lib/python3.6/dist-packages/scipy/spatial/kdtree.py\u001b[0m in \u001b[0;36m__init__\u001b[0;34m(self, data, leafsize)\u001b[0m\n\u001b[1;32m    249\u001b[0m         \u001b[0mself\u001b[0m\u001b[0;34m.\u001b[0m\u001b[0mmins\u001b[0m \u001b[0;34m=\u001b[0m \u001b[0mnp\u001b[0m\u001b[0;34m.\u001b[0m\u001b[0mamin\u001b[0m\u001b[0;34m(\u001b[0m\u001b[0mself\u001b[0m\u001b[0;34m.\u001b[0m\u001b[0mdata\u001b[0m\u001b[0;34m,\u001b[0m\u001b[0maxis\u001b[0m\u001b[0;34m=\u001b[0m\u001b[0;36m0\u001b[0m\u001b[0;34m)\u001b[0m\u001b[0;34m\u001b[0m\u001b[0;34m\u001b[0m\u001b[0m\n\u001b[1;32m    250\u001b[0m \u001b[0;34m\u001b[0m\u001b[0m\n\u001b[0;32m--> 251\u001b[0;31m         \u001b[0mself\u001b[0m\u001b[0;34m.\u001b[0m\u001b[0mtree\u001b[0m \u001b[0;34m=\u001b[0m \u001b[0mself\u001b[0m\u001b[0;34m.\u001b[0m\u001b[0m__build\u001b[0m\u001b[0;34m(\u001b[0m\u001b[0mnp\u001b[0m\u001b[0;34m.\u001b[0m\u001b[0marange\u001b[0m\u001b[0;34m(\u001b[0m\u001b[0mself\u001b[0m\u001b[0;34m.\u001b[0m\u001b[0mn\u001b[0m\u001b[0;34m)\u001b[0m\u001b[0;34m,\u001b[0m \u001b[0mself\u001b[0m\u001b[0;34m.\u001b[0m\u001b[0mmaxes\u001b[0m\u001b[0;34m,\u001b[0m \u001b[0mself\u001b[0m\u001b[0;34m.\u001b[0m\u001b[0mmins\u001b[0m\u001b[0;34m)\u001b[0m\u001b[0;34m\u001b[0m\u001b[0;34m\u001b[0m\u001b[0m\n\u001b[0m\u001b[1;32m    252\u001b[0m \u001b[0;34m\u001b[0m\u001b[0m\n\u001b[1;32m    253\u001b[0m     \u001b[0;32mclass\u001b[0m \u001b[0mnode\u001b[0m\u001b[0;34m(\u001b[0m\u001b[0mobject\u001b[0m\u001b[0;34m)\u001b[0m\u001b[0;34m:\u001b[0m\u001b[0;34m\u001b[0m\u001b[0;34m\u001b[0m\u001b[0m\n",
            "\u001b[0;32m/usr/local/lib/python3.6/dist-packages/scipy/spatial/kdtree.py\u001b[0m in \u001b[0;36m__build\u001b[0;34m(self, idx, maxes, mins)\u001b[0m\n\u001b[1;32m    288\u001b[0m             \u001b[0;31m# maxes = np.amax(data,axis=0)\u001b[0m\u001b[0;34m\u001b[0m\u001b[0;34m\u001b[0m\u001b[0;34m\u001b[0m\u001b[0m\n\u001b[1;32m    289\u001b[0m             \u001b[0;31m# mins = np.amin(data,axis=0)\u001b[0m\u001b[0;34m\u001b[0m\u001b[0;34m\u001b[0m\u001b[0;34m\u001b[0m\u001b[0m\n\u001b[0;32m--> 290\u001b[0;31m             \u001b[0md\u001b[0m \u001b[0;34m=\u001b[0m \u001b[0mnp\u001b[0m\u001b[0;34m.\u001b[0m\u001b[0margmax\u001b[0m\u001b[0;34m(\u001b[0m\u001b[0mmaxes\u001b[0m\u001b[0;34m-\u001b[0m\u001b[0mmins\u001b[0m\u001b[0;34m)\u001b[0m\u001b[0;34m\u001b[0m\u001b[0;34m\u001b[0m\u001b[0m\n\u001b[0m\u001b[1;32m    291\u001b[0m             \u001b[0mmaxval\u001b[0m \u001b[0;34m=\u001b[0m \u001b[0mmaxes\u001b[0m\u001b[0;34m[\u001b[0m\u001b[0md\u001b[0m\u001b[0;34m]\u001b[0m\u001b[0;34m\u001b[0m\u001b[0;34m\u001b[0m\u001b[0m\n\u001b[1;32m    292\u001b[0m             \u001b[0mminval\u001b[0m \u001b[0;34m=\u001b[0m \u001b[0mmins\u001b[0m\u001b[0;34m[\u001b[0m\u001b[0md\u001b[0m\u001b[0;34m]\u001b[0m\u001b[0;34m\u001b[0m\u001b[0;34m\u001b[0m\u001b[0m\n",
            "\u001b[0;31mTypeError\u001b[0m: unsupported operand type(s) for -: 'str' and 'str'"
          ]
        }
      ]
    }
  ]
}