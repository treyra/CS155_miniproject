{
  "nbformat": 4,
  "nbformat_minor": 0,
  "metadata": {
    "colab": {
      "name": "neural_net_clean.ipynb",
      "provenance": [],
      "include_colab_link": true
    },
    "kernelspec": {
      "name": "python3",
      "display_name": "Python 3"
    }
  },
  "cells": [
    {
      "cell_type": "markdown",
      "metadata": {
        "id": "view-in-github",
        "colab_type": "text"
      },
      "source": [
        "<a href=\"https://colab.research.google.com/github/treyra/CS155_miniproject/blob/data_visualization_v1/neural_net_clean.ipynb\" target=\"_parent\"><img src=\"https://colab.research.google.com/assets/colab-badge.svg\" alt=\"Open In Colab\"/></a>"
      ]
    },
    {
      "cell_type": "code",
      "metadata": {
        "id": "auERdSqQdskt"
      },
      "source": [
        "import numpy as np\n",
        "from matplotlib import pyplot as plt\n",
        "import pandas as pd\n",
        "import tensorflow as tf\n",
        "device_name = tf.test.gpu_device_name()\n",
        "if device_name != '/device:GPU:0':\n",
        "  raise SystemError('GPU device not found')\n",
        "print('Found GPU at: {}'.format(device_name))\n",
        "tf.config.experimental.list_physical_devices('GPU')"
      ],
      "execution_count": null,
      "outputs": []
    },
    {
      "cell_type": "code",
      "metadata": {
        "id": "8ZG7Efg8dzhK"
      },
      "source": [
        "df_train = pd.read_csv('https://raw.githubusercontent.com/treyra/CS155_miniproject/data_visualization_v1/data_cleanup/traindata_imputed_normalized_standard.csv',sep=',', header=0,index_col=0)\n",
        "df_train.head()"
      ],
      "execution_count": null,
      "outputs": []
    },
    {
      "cell_type": "code",
      "metadata": {
        "id": "CQdScLU5d1X0"
      },
      "source": [
        "df_test = pd.read_csv('https://raw.githubusercontent.com/treyra/CS155_miniproject/data_visualization_v1/data_cleanup/testdata_imputed_normalized_standard.csv',sep=',', header=0,index_col=0)\n",
        "df_test.head()"
      ],
      "execution_count": null,
      "outputs": []
    },
    {
      "cell_type": "code",
      "metadata": {
        "id": "zKpwX5ISd2Da"
      },
      "source": [
        "# drop features\n",
        "df_test = df_test.drop(['FIPS_CODE', 'YEAR', 'SOURCE_REPORTING_UNIT_NAME','STATE'],axis=1)\n",
        "df_train = df_train.drop(['FIPS_CODE', 'YEAR', 'SOURCE_REPORTING_UNIT_NAME','STATE'],axis=1)\n",
        "df_test.head()"
      ],
      "execution_count": null,
      "outputs": []
    },
    {
      "cell_type": "code",
      "metadata": {
        "id": "oEUbNv6id4M2"
      },
      "source": [
        "# use mlp for prediction on multi-label classification # code modified from https://machinelearningmastery.com/multi-label-classification-with-deep-learning/\n",
        "from numpy import asarray\n",
        "from tensorflow.keras.models import Sequential\n",
        "from tensorflow.keras.layers import Dense\n",
        "from sklearn.model_selection import RepeatedKFold\n",
        "from tensorflow.keras.models import Sequential\n",
        "from tensorflow.keras.layers import Dense\n",
        "from tensorflow.keras.layers import Dropout\n",
        "from keras.callbacks import EarlyStopping\n",
        "from keras.callbacks import ModelCheckpoint\n",
        "from sklearn.metrics import accuracy_score\n",
        "from sklearn.metrics import roc_auc_score\n",
        "from pdb import set_trace as st\n",
        "\n",
        "# get the model\n",
        "def get_model(n_inputs, n_outputs):\n",
        "  # 0.792 in kaggle with dropped features and 40 epochs\n",
        "  model = Sequential()\n",
        "  model.add(Dense(200, input_dim=n_inputs, kernel_initializer='he_uniform', activation='relu'))\n",
        "  model.add(Dense(150, input_dim=200, kernel_initializer='he_uniform', activation='relu')) # tried selu also \n",
        "  model.add(Dense(100, input_dim=150, kernel_initializer='he_uniform', activation='relu')) # tried selu also \n",
        "  # last layer fix for multi-classification probabilities\n",
        "  model.add(Dense(n_outputs, activation='sigmoid'))\n",
        "  model.compile(loss='binary_crossentropy', optimizer='adam') # tried adamax also\n",
        "  return model\n",
        "\n",
        "# evaluate a model using repeated k-fold cross-validation\n",
        "def evaluate_model(X, y):\n",
        "  with tf.device('/device:GPU:0'):\n",
        "    results = list()\n",
        "    n_inputs, n_outputs = X.shape[1], y.shape[1]\n",
        "    # define evaluation procedure\n",
        "    cv = RepeatedKFold(n_splits=3, n_repeats=1, random_state=1)\n",
        "    # enumerate folds\n",
        "    for train_ix, test_ix in cv.split(X):\n",
        "      # prepare data\n",
        "      X_train, X_test = X[train_ix], X[test_ix]\n",
        "      y_train, y_test = y[train_ix], y[test_ix]\n",
        "      # define model\n",
        "      model = get_model(n_inputs, n_outputs)\n",
        "      # fit model\n",
        "      model.fit(X_train, y_train, verbose=0, epochs=10)\n",
        "      # make a prediction on the test set\n",
        "      yhat = model.predict(X_test)\n",
        "      # round probabilities to class labels\n",
        "      #yhat = yhat.round()\n",
        "      # calculate accuracy\n",
        "      acc = roc_auc_score(y_test, yhat, multi_class='ovr')\n",
        "      # store result\n",
        "      print('>%.3f' % acc)\n",
        "      results.append(acc)\n",
        "    return results\n",
        "\n",
        "# load dataset\n",
        "df_train_X = df_train.drop(['id','LABEL','0','1','2','3'], axis =1)\n",
        "df_train_y = df_train.drop(['id','LATITUDE','LONGITUDE','DISCOVERY_TIME','FIRE_SIZE','FIPS_NAME','DAY','LABEL'], axis=1)\n",
        "\n",
        "X = df_train_X.to_numpy()\n",
        "y = df_train_y.to_numpy()\n",
        "n_inputs, n_outputs = X.shape[1], y.shape[1]\n",
        "# get model\n",
        "\n",
        "model = get_model(n_inputs, n_outputs)\n",
        "# fit the model on all data\n",
        "with tf.device('/device:GPU:0'):\n",
        "  # simple early stopping\n",
        "  es = EarlyStopping(monitor='loss', mode='min', verbose=1, patience=5)\n",
        "  # mc = ModelCheckpoint('best_model.h5', monitor='loss', mode='max', verbose=1, save_best_only=True)\n",
        "  history = model.fit(X, y, verbose=1, epochs=50, callbacks=[es])\n",
        "  \n",
        "# compute accuracy\n",
        "results = evaluate_model(X, y)\n",
        "# summarize performance\n",
        "print('Accuracy: %.3f (%.3f)' % (np.mean(results), np.std(results)))"
      ],
      "execution_count": null,
      "outputs": []
    },
    {
      "cell_type": "code",
      "metadata": {
        "id": "RWafyanzeHj5"
      },
      "source": [
        "\n",
        "# make a prediction for test data\n",
        "df_test_noid = df_test.drop(['id'], axis=1)\n",
        "X_test = df_test_noid.to_numpy()\n",
        "print(X_test.shape)\n",
        "df_test_noid.head()\n",
        "\n",
        "y_test = saved_model.predict(X_test)\n",
        "print('Predicted: %s' % y_test[0])\n",
        "print(y_test)"
      ],
      "execution_count": null,
      "outputs": []
    },
    {
      "cell_type": "code",
      "metadata": {
        "id": "bB4BYY3JeJo4"
      },
      "source": [
        "# save as csv_file in sample submission format\n",
        "# put it together in a dataframe and save\n",
        "from google.colab import  drive\n",
        "\n",
        "def save_csv(df, savestr):\n",
        "  drive.mount(\"/drive\", force_remount=True)\n",
        "  df.to_csv('/drive/My Drive/CS155_miniproject_1/'+str(savestr)+'.csv')\n",
        "\n",
        "df = pd.DataFrame(y_test)\n",
        "predictions = pd.DataFrame(df_test['id'])\n",
        "predictions['P1']=y_test[:,0]\n",
        "predictions['P2']=y_test[:,1]\n",
        "predictions['P3']=y_test[:,2]\n",
        "predictions['P4']=y_test[:,3]\n",
        "predictions = predictions.set_index('id')\n",
        "predictions.head()"
      ],
      "execution_count": null,
      "outputs": []
    },
    {
      "cell_type": "code",
      "metadata": {
        "id": "d4bzmEWYeNFo"
      },
      "source": [
        "save_csv(predictions,'predictions_neural_net_standard')"
      ],
      "execution_count": null,
      "outputs": []
    }
  ]
}