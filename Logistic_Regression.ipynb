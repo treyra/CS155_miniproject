{
  "nbformat": 4,
  "nbformat_minor": 0,
  "metadata": {
    "anaconda-cloud": {},
    "kernelspec": {
      "name": "python3",
      "display_name": "Python 3"
    },
    "colab": {
      "name": "Logistic Regression.ipynb",
      "provenance": [],
      "include_colab_link": true
    }
  },
  "cells": [
    {
      "cell_type": "markdown",
      "metadata": {
        "id": "view-in-github",
        "colab_type": "text"
      },
      "source": [
        "<a href=\"https://colab.research.google.com/github/treyra/CS155_miniproject/blob/master/Logistic_Regression.ipynb\" target=\"_parent\"><img src=\"https://colab.research.google.com/assets/colab-badge.svg\" alt=\"Open In Colab\"/></a>"
      ]
    },
    {
      "cell_type": "markdown",
      "metadata": {
        "id": "5aZrJLBWB8N0"
      },
      "source": [
        "\r\n",
        "# This notebook creates a simple logistic regression model on the data to experiment with different features and different normilizations"
      ]
    },
    {
      "cell_type": "code",
      "metadata": {
        "collapsed": true,
        "id": "VO6T8OgVB8N6"
      },
      "source": [
        "import numpy as np\n",
        "from matplotlib import pyplot as plt\n",
        "from sklearn.linear_model import LogisticRegression\n",
        "from sklearn.model_selection import KFold\n",
        "import pandas as pd"
      ],
      "execution_count": 19,
      "outputs": []
    },
    {
      "cell_type": "markdown",
      "metadata": {
        "id": "6STW31z5B8N7"
      },
      "source": [
        "### Load the data:"
      ]
    },
    {
      "cell_type": "code",
      "metadata": {
        "id": "AFaY9ZYBB8N7",
        "colab": {
          "base_uri": "https://localhost:8080/",
          "height": 206
        },
        "outputId": "cbbb0a86-40ba-453e-f726-bdb6bb493101"
      },
      "source": [
        "#Use the imputed and normalized data (This link will need to be updated when we merge the branches)\n",
        "dfImp = pd.read_csv('https://raw.githubusercontent.com/treyra/CS155_miniproject/data_visualization_v1/data_cleanup/traindata_imputed_normalized_minmax.csv',sep=',', header=0)\n",
        "dfImp.head()"
      ],
      "execution_count": 12,
      "outputs": [
        {
          "output_type": "execute_result",
          "data": {
            "text/html": [
              "<div>\n",
              "<style scoped>\n",
              "    .dataframe tbody tr th:only-of-type {\n",
              "        vertical-align: middle;\n",
              "    }\n",
              "\n",
              "    .dataframe tbody tr th {\n",
              "        vertical-align: top;\n",
              "    }\n",
              "\n",
              "    .dataframe thead th {\n",
              "        text-align: right;\n",
              "    }\n",
              "</style>\n",
              "<table border=\"1\" class=\"dataframe\">\n",
              "  <thead>\n",
              "    <tr style=\"text-align: right;\">\n",
              "      <th></th>\n",
              "      <th>Unnamed: 0</th>\n",
              "      <th>id</th>\n",
              "      <th>LATITUDE</th>\n",
              "      <th>LONGITUDE</th>\n",
              "      <th>STATE</th>\n",
              "      <th>DISCOVERY_TIME</th>\n",
              "      <th>FIRE_SIZE</th>\n",
              "      <th>FIPS_NAME</th>\n",
              "      <th>FIPS_CODE</th>\n",
              "      <th>SOURCE_REPORTING_UNIT_NAME</th>\n",
              "      <th>YEAR</th>\n",
              "      <th>DAY</th>\n",
              "      <th>LABEL</th>\n",
              "      <th>0</th>\n",
              "      <th>1</th>\n",
              "      <th>2</th>\n",
              "      <th>3</th>\n",
              "    </tr>\n",
              "  </thead>\n",
              "  <tbody>\n",
              "    <tr>\n",
              "      <th>0</th>\n",
              "      <td>0</td>\n",
              "      <td>0</td>\n",
              "      <td>0.666803</td>\n",
              "      <td>-2.100242</td>\n",
              "      <td>1</td>\n",
              "      <td>0.054167</td>\n",
              "      <td>3.213609e-07</td>\n",
              "      <td>0.892523</td>\n",
              "      <td>0.02500</td>\n",
              "      <td>0.000000</td>\n",
              "      <td>0.0</td>\n",
              "      <td>0.002732</td>\n",
              "      <td>1</td>\n",
              "      <td>1.0</td>\n",
              "      <td>0.0</td>\n",
              "      <td>0.0</td>\n",
              "      <td>0.0</td>\n",
              "    </tr>\n",
              "    <tr>\n",
              "      <th>1</th>\n",
              "      <td>1</td>\n",
              "      <td>1</td>\n",
              "      <td>0.590150</td>\n",
              "      <td>-1.485350</td>\n",
              "      <td>2</td>\n",
              "      <td>0.464583</td>\n",
              "      <td>4.141985e-06</td>\n",
              "      <td>0.000000</td>\n",
              "      <td>0.44375</td>\n",
              "      <td>0.005780</td>\n",
              "      <td>0.0</td>\n",
              "      <td>0.002732</td>\n",
              "      <td>4</td>\n",
              "      <td>0.0</td>\n",
              "      <td>0.0</td>\n",
              "      <td>0.0</td>\n",
              "      <td>1.0</td>\n",
              "    </tr>\n",
              "    <tr>\n",
              "      <th>2</th>\n",
              "      <td>2</td>\n",
              "      <td>2</td>\n",
              "      <td>0.562013</td>\n",
              "      <td>-1.439874</td>\n",
              "      <td>2</td>\n",
              "      <td>0.666667</td>\n",
              "      <td>2.142406e-07</td>\n",
              "      <td>0.004673</td>\n",
              "      <td>0.65000</td>\n",
              "      <td>0.005780</td>\n",
              "      <td>0.0</td>\n",
              "      <td>0.002732</td>\n",
              "      <td>2</td>\n",
              "      <td>0.0</td>\n",
              "      <td>1.0</td>\n",
              "      <td>0.0</td>\n",
              "      <td>0.0</td>\n",
              "    </tr>\n",
              "    <tr>\n",
              "      <th>3</th>\n",
              "      <td>3</td>\n",
              "      <td>3</td>\n",
              "      <td>0.567394</td>\n",
              "      <td>-1.426084</td>\n",
              "      <td>2</td>\n",
              "      <td>0.506250</td>\n",
              "      <td>1.567527e-05</td>\n",
              "      <td>0.009346</td>\n",
              "      <td>0.09375</td>\n",
              "      <td>0.005780</td>\n",
              "      <td>0.0</td>\n",
              "      <td>0.002732</td>\n",
              "      <td>4</td>\n",
              "      <td>0.0</td>\n",
              "      <td>0.0</td>\n",
              "      <td>0.0</td>\n",
              "      <td>1.0</td>\n",
              "    </tr>\n",
              "    <tr>\n",
              "      <th>4</th>\n",
              "      <td>4</td>\n",
              "      <td>4</td>\n",
              "      <td>0.587546</td>\n",
              "      <td>-2.027583</td>\n",
              "      <td>1</td>\n",
              "      <td>0.549583</td>\n",
              "      <td>6.784285e-07</td>\n",
              "      <td>0.780374</td>\n",
              "      <td>0.20000</td>\n",
              "      <td>0.011561</td>\n",
              "      <td>0.0</td>\n",
              "      <td>0.002732</td>\n",
              "      <td>2</td>\n",
              "      <td>0.0</td>\n",
              "      <td>1.0</td>\n",
              "      <td>0.0</td>\n",
              "      <td>0.0</td>\n",
              "    </tr>\n",
              "  </tbody>\n",
              "</table>\n",
              "</div>"
            ],
            "text/plain": [
              "   Unnamed: 0  id  LATITUDE  LONGITUDE  STATE  ...  LABEL    0    1    2    3\n",
              "0           0   0  0.666803  -2.100242      1  ...      1  1.0  0.0  0.0  0.0\n",
              "1           1   1  0.590150  -1.485350      2  ...      4  0.0  0.0  0.0  1.0\n",
              "2           2   2  0.562013  -1.439874      2  ...      2  0.0  1.0  0.0  0.0\n",
              "3           3   3  0.567394  -1.426084      2  ...      4  0.0  0.0  0.0  1.0\n",
              "4           4   4  0.587546  -2.027583      1  ...      2  0.0  1.0  0.0  0.0\n",
              "\n",
              "[5 rows x 17 columns]"
            ]
          },
          "metadata": {
            "tags": []
          },
          "execution_count": 12
        }
      ]
    },
    {
      "cell_type": "markdown",
      "metadata": {
        "id": "cQ6prpG6JFDa"
      },
      "source": [
        "###Create the catgegory vs all data"
      ]
    },
    {
      "cell_type": "code",
      "metadata": {
        "id": "DU7aunNBJNYB"
      },
      "source": [
        "#Make a copy for each label, set that labels value to 1, the rest to -1\r\n",
        "#To change the features being passed in, make a dataframe with the new features, and replace dfImp with it.\r\n",
        "\r\n",
        "oneData = dfImp.copy()\r\n",
        "oneData.loc[(oneData['LABEL'] != 1,\"LABEL\")] = -1\r\n",
        "#Make numpy arrays for regression\r\n",
        "oneY = oneData['LABEL'].to_numpy()\r\n",
        "oneData.drop('LABEL', axis=1)\r\n",
        "oneX = oneData.to_numpy()\r\n",
        "\r\n",
        "twoData = dfImp.copy()\r\n",
        "twoData.loc[(twoData['LABEL'] != 2,\"LABEL\")] = -1\r\n",
        "twoData.loc[(twoData['LABEL'] == 2,\"LABEL\")] = 1\r\n",
        "#Make numpy arrays for regression\r\n",
        "twoY = twoData['LABEL'].to_numpy()\r\n",
        "twoData.drop('LABEL', axis=1)\r\n",
        "twoX = twoData.to_numpy()\r\n",
        "\r\n",
        "threeData = dfImp.copy()\r\n",
        "threeData.loc[(threeData['LABEL'] != 3,\"LABEL\")] = -1\r\n",
        "threeData.loc[(threeData['LABEL'] == 3,\"LABEL\")] = 1\r\n",
        "threeY = threeData['LABEL'].to_numpy()\r\n",
        "threeData.drop('LABEL', axis=1)\r\n",
        "threeX = threeData.to_numpy()\r\n",
        "\r\n",
        "fourData = dfImp.copy()\r\n",
        "fourData.loc[(fourData['LABEL'] != 4,\"LABEL\")] = -1\r\n",
        "fourData.loc[(fourData['LABEL'] == 4,\"LABEL\")] = 1\r\n",
        "fourY = fourData['LABEL'].to_numpy()\r\n",
        "fourData.drop('LABEL', axis=1)\r\n",
        "fourX = fourData.to_numpy()"
      ],
      "execution_count": 16,
      "outputs": []
    },
    {
      "cell_type": "code",
      "metadata": {
        "colab": {
          "base_uri": "https://localhost:8080/"
        },
        "id": "GKR4Nr9MhR9O",
        "outputId": "58315f79-e2d1-41ac-be87-ee1ce4fcb1f3"
      },
      "source": [
        "len(oneX)"
      ],
      "execution_count": 18,
      "outputs": [
        {
          "output_type": "execute_result",
          "data": {
            "text/plain": [
              "285382"
            ]
          },
          "metadata": {
            "tags": []
          },
          "execution_count": 18
        }
      ]
    },
    {
      "cell_type": "markdown",
      "metadata": {
        "id": "q0SAJworLdWx"
      },
      "source": [
        "###Logistic Regression and Cross Validation"
      ]
    },
    {
      "cell_type": "code",
      "metadata": {
        "id": "LhJ9VquyLixA"
      },
      "source": [
        "#Regularization values to check via cross validation\r\n",
        "#This can be swapped with some other parameter, the approach will be the came\r\n",
        "numParams = 20\r\n",
        "Cs = np.logspace(-1,1,numParams)\r\n",
        "\r\n",
        "#Scores for in and out classification for each one vs all, determined using LogisticRegression.score()\r\n",
        "scoreIn = np.zeros((4,numParams))\r\n",
        "scoreOut = np.zeros((4,numParams))\r\n",
        "\r\n",
        "#Run cross validation for each parameter!\r\n",
        "num_folds = 10\r\n",
        "for run in range(numParams):\r\n",
        "\r\n",
        "    # Initialize kfold cross-validation object with 10 folds:\r\n",
        "    kf = KFold(n_splits=num_folds)\r\n",
        "\r\n",
        "    # Iterate through cross-validation folds for each model\r\n",
        "    for train_index, test_index in kf.split(oneX):\r\n",
        "        \r\n",
        "        \r\n",
        "        # Training and testing data points for this fold:\r\n",
        "        x_train, x_test = oneX[train_index], oneX[test_index]\r\n",
        "        y_train, y_test = oneY[train_index], oneY[test_index]\r\n",
        "\r\n",
        "        # Instantiate a Ridge regression object (with little regularization, can change this)\r\n",
        "        log = LogisticRegression(C = Cs[run])\r\n",
        "\r\n",
        "        #Perform the fitting\r\n",
        "        log.fit(x_train, y_train)\r\n",
        "\r\n",
        "        #Evaluate errors \r\n",
        "        scoreIn[0,run] += log.score(x_train, y_train)\r\n",
        "        scoreOut[0,run] += log.score(x_train, y_train)\r\n",
        "    # Iterate through cross-validation folds for each model\r\n",
        "    for train_index, test_index in kf.split(twoX):\r\n",
        "        \r\n",
        "        \r\n",
        "        # Training and testing data points for this fold:\r\n",
        "        x_train, x_test = twoX[train_index], twoX[test_index]\r\n",
        "        y_train, y_test = twoY[train_index], twoY[test_index]\r\n",
        "\r\n",
        "        # Instantiate a Ridge regression object (with little regularization, can change this)\r\n",
        "        log = LogisticRegression(C = Cs[run])\r\n",
        "\r\n",
        "        #Perform the fitting\r\n",
        "        log.fit(x_train, y_train)\r\n",
        "\r\n",
        "        #Evaluate errors \r\n",
        "        scoreIn[1,run] += log.score(x_train, y_train)\r\n",
        "        scoreOut[1,run] += log.score(x_train, y_train)\r\n",
        "    # Iterate through cross-validation folds for each model\r\n",
        "    for train_index, test_index in kf.split(threeX):\r\n",
        "        \r\n",
        "        \r\n",
        "        # Training and testing data points for this fold:\r\n",
        "        x_train, x_test = threeX[train_index], threeX[test_index]\r\n",
        "        y_train, y_test = threeY[train_index], threeY[test_index]\r\n",
        "\r\n",
        "        # Instantiate a Ridge regression object (with little regularization, can change this)\r\n",
        "        log = LogisticRegression(C = Cs[run])\r\n",
        "\r\n",
        "        #Perform the fitting\r\n",
        "        log.fit(x_train, y_train)\r\n",
        "\r\n",
        "        #Evaluate errors \r\n",
        "        scoreIn[2,run] += log.score(x_train, y_train)\r\n",
        "        scoreOut[2,run] += log.score(x_train, y_train)\r\n",
        "    # Iterate through cross-validation folds for each model\r\n",
        "    for train_index, test_index in kf.split(fourX):\r\n",
        "        \r\n",
        "        \r\n",
        "        # Training and testing data points for this fold:\r\n",
        "        x_train, x_test = fourX[train_index], fourX[test_index]\r\n",
        "        y_train, y_test = fourY[train_index], fourY[test_index]\r\n",
        "\r\n",
        "        # Instantiate a Ridge regression object (with little regularization, can change this)\r\n",
        "        log = LogisticRegression(C = Cs[run])\r\n",
        "\r\n",
        "        #Perform the fitting\r\n",
        "        log.fit(x_train, y_train)\r\n",
        "\r\n",
        "        #Evaluate errors \r\n",
        "        scoreIn[3,run] += log.score(x_train, y_train)\r\n",
        "        scoreOut[3,run] += log.score(x_train, y_train)\r\n",
        "\r\n",
        "scoreIn = scoreIn/num_folds\r\n",
        "scoreOut = scoreOut/num_folds\r\n",
        "\r\n",
        "print(\"Scores In\")\r\n",
        "print(scoreIn)\r\n",
        "print(\"Scores Out\")\r\n",
        "print(scoreOut)\r\n",
        "\r\n"
      ],
      "execution_count": null,
      "outputs": []
    },
    {
      "cell_type": "code",
      "metadata": {
        "colab": {
          "base_uri": "https://localhost:8080/"
        },
        "id": "TIkKugQ3lOrd",
        "outputId": "4305b8a9-b670-4793-b0c8-1bdf87ca49a8"
      },
      "source": [
        "\r\n",
        "\r\n",
        "scoreIn = scoreIn/num_folds\r\n",
        "scoreOut = scoreOut/num_folds\r\n",
        "\r\n",
        "print(\"Scores In\")\r\n",
        "print(scoreIn)\r\n",
        "print(\"Scores Out\")\r\n",
        "print(scoreOut)"
      ],
      "execution_count": 23,
      "outputs": [
        {
          "output_type": "stream",
          "text": [
            "Scores In\n",
            "[[0.91292294 0.91292294 0.91292294 0.91292294 0.91292294 0.91292294\n",
            "  0.91292294 0.91292294 0.91292294 0.91292294 0.91292294 0.91292294\n",
            "  0.91292294 0.91292294 0.91292294 0.91292294 0.91292294 0.91292294\n",
            "  0.91292294 0.91292294]\n",
            " [0.6141896  0.6141896  0.6141896  0.6141896  0.6141896  0.6141896\n",
            "  0.6141896  0.6141896  0.6141896  0.6141896  0.6141896  0.6141896\n",
            "  0.6141896  0.6141896  0.6141896  0.6141896  0.6141896  0.6141896\n",
            "  0.6141896  0.6141896 ]\n",
            " [0.85103826 0.85103826 0.85103826 0.85103826 0.85103826 0.85103826\n",
            "  0.85103826 0.85103826 0.85103826 0.85103826 0.85103826 0.85103826\n",
            "  0.85103826 0.85103826 0.85103826 0.85103826 0.85103826 0.85103826\n",
            "  0.85103826 0.85103826]\n",
            " [0.81656867 0.81656867 0.81656867 0.81656867 0.81656867 0.81656867\n",
            "  0.81656867 0.81656867 0.81656867 0.81656867 0.81656867 0.81656867\n",
            "  0.81656867 0.81656867 0.81656867 0.81656867 0.81656867 0.81656867\n",
            "  0.81656867 0.81656867]]\n",
            "Scores Out\n",
            "[[0.91292294 0.91292294 0.91292294 0.91292294 0.91292294 0.91292294\n",
            "  0.91292294 0.91292294 0.91292294 0.91292294 0.91292294 0.91292294\n",
            "  0.91292294 0.91292294 0.91292294 0.91292294 0.91292294 0.91292294\n",
            "  0.91292294 0.91292294]\n",
            " [0.6141896  0.6141896  0.6141896  0.6141896  0.6141896  0.6141896\n",
            "  0.6141896  0.6141896  0.6141896  0.6141896  0.6141896  0.6141896\n",
            "  0.6141896  0.6141896  0.6141896  0.6141896  0.6141896  0.6141896\n",
            "  0.6141896  0.6141896 ]\n",
            " [0.85103826 0.85103826 0.85103826 0.85103826 0.85103826 0.85103826\n",
            "  0.85103826 0.85103826 0.85103826 0.85103826 0.85103826 0.85103826\n",
            "  0.85103826 0.85103826 0.85103826 0.85103826 0.85103826 0.85103826\n",
            "  0.85103826 0.85103826]\n",
            " [0.81656867 0.81656867 0.81656867 0.81656867 0.81656867 0.81656867\n",
            "  0.81656867 0.81656867 0.81656867 0.81656867 0.81656867 0.81656867\n",
            "  0.81656867 0.81656867 0.81656867 0.81656867 0.81656867 0.81656867\n",
            "  0.81656867 0.81656867]]\n"
          ],
          "name": "stdout"
        }
      ]
    },
    {
      "cell_type": "markdown",
      "metadata": {
        "id": "8EKNamEHpMVN"
      },
      "source": [
        "Output from first run when Cs was accidentally set to .1-10**10\r\n",
        "\r\n",
        "Scores In\r\n",
        "\r\n",
        "[[0.91292294 0.91292294 0.91292294 0.91292294 0.91292294 0.91292294\r\n",
        "  0.91292294 0.91292294 0.91292294 0.91292294 0.91292294 0.91292294\r\n",
        "  0.91292294 0.91292294 0.91292294 0.91292294 0.91292294 0.91292294\r\n",
        "  0.91292294 0.91292294]\r\n",
        "\r\n",
        " [0.6141896  0.6141896  0.6141896  0.6141896  0.6141896  0.6141896\r\n",
        "  0.6141896  0.6141896  0.6141896  0.6141896  0.6141896  0.6141896\r\n",
        "  0.6141896  0.6141896  0.6141896  0.6141896  0.6141896  0.6141896\r\n",
        "  0.6141896  0.6141896 ]\r\n",
        "\r\n",
        " [0.85103826 0.85103826 0.85103826 0.85103826 0.85103826 0.85103826\r\n",
        "  0.85103826 0.85103826 0.85103826 0.85103826 0.85103826 0.85103826\r\n",
        "  0.85103826 0.85103826 0.85103826 0.85103826 0.85103826 0.85103826\r\n",
        "  0.85103826 0.85103826]\r\n",
        " [0.81656867 0.81656867 0.81656867 0.81656867 0.81656867 0.81656867\r\n",
        "  0.81656867 0.81656867 0.81656867 0.81656867 0.81656867 0.81656867\r\n",
        "  0.81656867 0.81656867 0.81656867 0.81656867 0.81656867 0.81656867\r\n",
        "  0.81656867 0.81656867]]\r\n",
        "\r\n",
        "Scores Out\r\n",
        "\r\n",
        "[[0.91292294 0.91292294 0.91292294 0.91292294 0.91292294 0.91292294\r\n",
        "  0.91292294 0.91292294 0.91292294 0.91292294 0.91292294 0.91292294\r\n",
        "  0.91292294 0.91292294 0.91292294 0.91292294 0.91292294 0.91292294\r\n",
        "  0.91292294 0.91292294]\r\n",
        "\r\n",
        " [0.6141896  0.6141896  0.6141896  0.6141896  0.6141896  0.6141896\r\n",
        "  0.6141896  0.6141896  0.6141896  0.6141896  0.6141896  0.6141896\r\n",
        "  0.6141896  0.6141896  0.6141896  0.6141896  0.6141896  0.6141896\r\n",
        "  0.6141896  0.6141896 ]\r\n",
        "\r\n",
        " [0.85103826 0.85103826 0.85103826 0.85103826 0.85103826 0.85103826\r\n",
        "  0.85103826 0.85103826 0.85103826 0.85103826 0.85103826 0.85103826\r\n",
        "  0.85103826 0.85103826 0.85103826 0.85103826 0.85103826 0.85103826\r\n",
        "  0.85103826 0.85103826]\r\n",
        "\r\n",
        " [0.81656867 0.81656867 0.81656867 0.81656867 0.81656867 0.81656867\r\n",
        "  0.81656867 0.81656867 0.81656867 0.81656867 0.81656867 0.81656867\r\n",
        "  0.81656867 0.81656867 0.81656867 0.81656867 0.81656867 0.81656867\r\n",
        "  0.81656867 0.81656867]]"
      ]
    },
    {
      "cell_type": "code",
      "metadata": {
        "colab": {
          "base_uri": "https://localhost:8080/"
        },
        "id": "M-Cmjm-flPAk",
        "outputId": "c030e10b-352c-49eb-be35-1e8ec364bbb9"
      },
      "source": [
        "Cs,np.logspace(-1,1,numParams)"
      ],
      "execution_count": 27,
      "outputs": [
        {
          "output_type": "execute_result",
          "data": {
            "text/plain": [
              "(array([1.25892541e+00, 4.17881006e+00, 1.38709199e+01, 4.60423938e+01,\n",
              "        1.52830673e+02, 5.07298009e+02, 1.68389803e+03, 5.58944158e+03,\n",
              "        1.85532951e+04, 6.15848211e+04, 2.04421380e+05, 6.78545457e+05,\n",
              "        2.25232770e+06, 7.47625680e+06, 2.48162892e+07, 8.23738707e+07,\n",
              "        2.73427446e+08, 9.07600522e+08, 3.01264090e+09, 1.00000000e+10]),\n",
              " array([ 0.1       ,  0.1274275 ,  0.16237767,  0.20691381,  0.26366509,\n",
              "         0.33598183,  0.42813324,  0.54555948,  0.6951928 ,  0.88586679,\n",
              "         1.12883789,  1.43844989,  1.83298071,  2.33572147,  2.97635144,\n",
              "         3.79269019,  4.83293024,  6.15848211,  7.8475997 , 10.        ]))"
            ]
          },
          "metadata": {
            "tags": []
          },
          "execution_count": 27
        }
      ]
    },
    {
      "cell_type": "code",
      "metadata": {
        "id": "sB-EvEi0pAbd"
      },
      "source": [
        ""
      ],
      "execution_count": null,
      "outputs": []
    }
  ]
}